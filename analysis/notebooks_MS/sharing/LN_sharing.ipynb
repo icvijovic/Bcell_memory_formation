{
 "cells": [
  {
   "cell_type": "code",
   "execution_count": 1,
   "id": "8fc61d2d",
   "metadata": {},
   "outputs": [],
   "source": [
    "import matplotlib as mpl\n",
    "import pandas as pd\n",
    "import scanpy as sc\n",
    "import seaborn as sns\n",
    "import pathlib\n",
    "%matplotlib inline\n",
    "from matplotlib import pyplot as plt\n",
    "savefig_args = {\n",
    "    \"dpi\": 300,\n",
    "    \"bbox_inches\": \"tight\",\n",
    "    \"pad_inches\": 0.1,\n",
    "    \"transparent\": True,\n",
    "}\n",
    "\n",
    "mpl.rc(\"savefig\", dpi=300)\n",
    "\n",
    "output_suffix = \"\"\n",
    "output_formats = [\".png\", \".pdf\"]\n",
    "\n",
    "sc.set_figure_params(dpi_save=150, frameon=False,\n",
    " vector_friendly=True, fontsize=6, figsize=(3,3), format='pdf', transparent=True)\n",
    "\n",
    "pd.set_option(\"display.max_rows\", 50)\n",
    "pd.set_option(\"display.max_columns\", 20)\n",
    "pd.set_option(\"display.width\", 100)\n",
    "%load_ext autoreload\n",
    "%autoreload 2\n",
    "%run ../helper.py\n",
    "sns.set_style(\"ticks\")\n",
    "plt.style.use('../bursa.mplstyle')"
   ]
  },
  {
   "attachments": {},
   "cell_type": "markdown",
   "id": "e4f6eac5-ef65-4147-953b-71a099b78c4b",
   "metadata": {},
   "source": [
    "## Load the Data"
   ]
  },
  {
   "cell_type": "code",
   "execution_count": 2,
   "id": "ff2c5594",
   "metadata": {},
   "outputs": [],
   "source": [
    "# configuration:\n",
    "h5ad = '../../../data/bcells.h5ad.gz'\n",
    "restrict_to_TBd6 = True\n",
    "# Flag to control the sharing computation, takes a while only needs done once\n",
    "compute_sharing = True\n",
    "vdj_infile = '../../../data/integrated_cell_calls_ambient_annotated.tsv.gz'\n",
    "sharing_outfile = \"../annotate/outputs/sharing_labels_gex.tsv.gz\"\n",
    "seq_identifier = 'vdj_sequence'\n",
    "# Dictionary to map tissue_combo to DataFrame columns\n",
    "tissue_combo_to_column = {\n",
    "    'LN_LN': 'shared_LN_LN',\n",
    "    'LN_SP': 'shared_LN_SP',\n",
    "    'LN_PB': 'shared_LN_PB',\n",
    "    \"BM_PB\": 'shared_BM_PB',\n",
    "    \"SP_PB\": 'shared_SP_PB',\n",
    "    \"SP_BM\": 'shared_SP_BM',\n",
    "    'LN_BM': 'shared_LN_BM',   \n",
    "    # Add more mappings as needed\n",
    "}"
   ]
  },
  {
   "cell_type": "code",
   "execution_count": 3,
   "id": "894a2335",
   "metadata": {},
   "outputs": [],
   "source": [
    "adata = sc.read_h5ad(h5ad, backed = 'r')\n"
   ]
  },
  {
   "cell_type": "code",
   "execution_count": 4,
   "id": "3899bff0",
   "metadata": {},
   "outputs": [],
   "source": [
    "# subset to donor 6, the only one with multiple lymph nodes\n",
    "if restrict_to_TBd6:\n",
    "    adata = adata[adata.obs.donor == 'TBd6']\n",
    "adata = adata.to_memory()\n",
    "# map whether the IGHC is switched\n",
    "adata.obs.loc[:,\"switched\"] = adata.obs.c_call.map(IGH_switched())\n",
    "# remove GEX profiles without VDJ sequences\n",
    "adata = adata[adata.obs.vdj_sequence != 'nan']\n",
    "# use only a subset of the data that is relevant for merge\n",
    "adata.obs = adata.obs[['cb', 'vdj_sequence', 'celltypist', 'switched']]\n"
   ]
  },
  {
   "cell_type": "code",
   "execution_count": 5,
   "id": "3d321d9d",
   "metadata": {},
   "outputs": [
    {
     "name": "stderr",
     "output_type": "stream",
     "text": [
      "/tmp/ipykernel_123466/2955305593.py:12: DtypeWarning: Columns (2,4,5,76,121) have mixed types. Specify dtype option on import or set low_memory=False.\n",
      "  df = pd.read_table(vdj_infile, index_col=0, usecols=[\"vdj_sequence\", \"lineage_id\", 'v_mismatch', 'donor', 'probable_hq_single_b_cell', 'subanatomical_location', 'tissue', 'locus', 'c_call', 'sample_uid', 'cb'])\n"
     ]
    },
    {
     "name": "stdout",
     "output_type": "stream",
     "text": [
      "subanatomical_location\n",
      "SDLN1    146273\n",
      "SDLN3     56045\n",
      "SDLN2     46962\n",
      "MELN1     33967\n",
      "MELN      26779\n",
      "Name: count, dtype: int64\n"
     ]
    },
    {
     "name": "stderr",
     "output_type": "stream",
     "text": [
      "/tmp/ipykernel_123466/2955305593.py:53: DtypeWarning: Columns (12,13) have mixed types. Specify dtype option on import or set low_memory=False.\n",
      "  shared = pd.read_table(sharing_outfile, index_col = 0)\n"
     ]
    },
    {
     "name": "stdout",
     "output_type": "stream",
     "text": [
      "(1160737, 19) antibody assemblies to analyze for sharing\n",
      "(202489, 19) number of hq single B cells transcriptomes to detect GEX differences amongst shared cells\n"
     ]
    }
   ],
   "source": [
    "# Function to check if two specific locations are shared within a group\n",
    "def shared_locations(group, subanatomical, loc1, loc2):\n",
    "    if group.empty:\n",
    "        return np.nan  # Return NaN if the group is empty\n",
    "    if subanatomical == False:\n",
    "        return (loc1 in group['tissue'].values) and (loc2 in group['tissue'].values)\n",
    "    else:\n",
    "        return (loc1 in group['subanatomical_location'].values) and (loc2 in group['subanatomical_location'].values)\n",
    "\n",
    "if compute_sharing:\n",
    "    # Load the data\n",
    "    df = pd.read_table(vdj_infile, index_col=0, usecols=[\"vdj_sequence\", \"lineage_id\", 'v_mismatch', 'donor', 'probable_hq_single_b_cell', 'subanatomical_location', 'tissue', 'locus', 'c_call', 'sample_uid', 'cb'])\n",
    "\n",
    "    # Drop rows with missing 'locus'\n",
    "    df = df.dropna(subset=['locus'])\n",
    "\n",
    "    # Subset to LNs\n",
    "    df_LN = df[df.tissue == 'LN']\n",
    "\n",
    "    # Print value counts for subanatomical locations within LNs\n",
    "    print(df_LN.subanatomical_location.value_counts())\n",
    "\n",
    "    # Identify sequences shared between LNs\n",
    "    shared_LNs = df_LN.groupby(seq_identifier)['subanatomical_location'].nunique() > 1\n",
    "    df['shared_LN_LN'] = df[seq_identifier].map(shared_LNs)\n",
    "\n",
    "    # Identify sequences found in a single LN\n",
    "    found_single_LN = df_LN.groupby(seq_identifier)['subanatomical_location'].nunique() == 1\n",
    "    df['found_in_single_LN'] = df[seq_identifier].map(found_single_LN)\n",
    "\n",
    "    \n",
    "\n",
    "    # Dictionary to hold shared categories\n",
    "    shared_categories = {\n",
    "        'shared_LN_SP': {'subanatomical': False, 'loc1': 'LN', 'loc2': 'SP'},\n",
    "        'shared_SP_PB': {'subanatomical': False, 'loc1': 'SP', 'loc2': 'PB'},\n",
    "        'shared_BM_PB': {'subanatomical': False, 'loc1': 'BM', 'loc2': 'PB'},\n",
    "        'shared_LN_PB': {'subanatomical': False, 'loc1': 'LN', 'loc2': 'PB'},\n",
    "        'shared_LN_BM': {'subanatomical': False, 'loc1': 'LN', 'loc2': 'BM'},\n",
    "        'shared_SP_BM': {'subanatomical': False, 'loc1': 'LN', 'loc2': 'BM'},\n",
    "    }\n",
    "    # Iterate through the dictionary to compute shared categories\n",
    "    for category, params in shared_categories.items():\n",
    "        # Use the apply method to check for shared locations\n",
    "        shared = df.groupby(seq_identifier).apply(shared_locations, params['subanatomical'], params['loc1'], params['loc2'])\n",
    "        # Map the results to the original DataFrame\n",
    "        df[category] = df[seq_identifier].map(shared)\n",
    "\n",
    "    # Write the DataFrame to a file\n",
    "    df.reset_index().to_csv(sharing_outfile, sep=\"\\t\")\n",
    "    \n",
    "# load output\n",
    "shared = pd.read_table(sharing_outfile, index_col = 0)\n",
    "print(shared.shape, \"antibody assemblies to analyze for sharing\")\n",
    "shared = shared[shared.probable_hq_single_b_cell == True]\n",
    "print(shared.shape, \"number of hq single B cells transcriptomes to detect GEX differences amongst shared cells\")\n",
    "# Merging the DataFrames with suffixes for common columns\n",
    "merged_df = pd.merge(adata.obs, shared, left_on=['cb', 'vdj_sequence'], right_on=['cb', 'vdj_sequence'], suffixes=('_left', ''), how='left')\n",
    "\n",
    "# Dropping the columns duplicated columns for df on right\n",
    "# Identify columns containing \"_right\" in their names\n",
    "cols_to_remove = [col for col in merged_df.columns if '_left' in col]\n",
    "\n",
    "# Drop the identified columns from the DataFrame\n",
    "merged_df.drop(columns=cols_to_remove, inplace=True)\n",
    "merged_df.index = adata.obs.index\n",
    "adata.obs = merged_df\n",
    "adata = adata[~adata.obs.sample_uid.isna()]"
   ]
  },
  {
   "cell_type": "code",
   "execution_count": null,
   "id": "8a5e93c9",
   "metadata": {},
   "outputs": [
    {
     "name": "stderr",
     "output_type": "stream",
     "text": [
      "/tmp/ipykernel_123466/3114345978.py:10: DtypeWarning: Columns (2,4,5,76,121) have mixed types. Specify dtype option on import or set low_memory=False.\n",
      "  df = pd.read_table(vdj_infile, index_col=0, usecols=[\"vdj_sequence\", \"lineage_id\", 'v_mismatch', 'donor', 'probable_hq_single_b_cell', 'subanatomical_location', 'tissue', 'locus', 'c_call', 'sample_uid', 'cb'])\n"
     ]
    },
    {
     "name": "stdout",
     "output_type": "stream",
     "text": [
      "subanatomical_location\n",
      "SDLN1    146273\n",
      "SDLN3     56045\n",
      "SDLN2     46962\n",
      "MELN1     33967\n",
      "MELN      26779\n",
      "Name: count, dtype: int64\n"
     ]
    },
    {
     "name": "stderr",
     "output_type": "stream",
     "text": [
      "/tmp/ipykernel_123466/3114345978.py:47: DtypeWarning: Columns (12,13) have mixed types. Specify dtype option on import or set low_memory=False.\n",
      "  shared = pd.read_table(sharing_outfile, index_col = 0)\n"
     ]
    },
    {
     "name": "stdout",
     "output_type": "stream",
     "text": [
      "(1160737, 19) antibody assemblies to analyze for sharing\n",
      "(202489, 19) number of hq single B cells transcriptomes to detect GEX differences amongst shared cells\n"
     ]
    }
   ],
   "source": [
    "# Function to check if two specific locations are shared within a group\n",
    "def shared_locations(group, subanatomical, loc1, loc2):\n",
    "    if subanatomical == False:\n",
    "        return (loc1 in group['tissue'].values) and (loc2 in group['tissue'].values)\n",
    "    else:\n",
    "        return (loc1 in group['subanatomical_location'].values) and (loc2 in group['subanatomical_location'].values)\n",
    "\n",
    "if compute_sharing:\n",
    "    # Load the data\n",
    "    df = pd.read_table(vdj_infile, index_col=0, usecols=[\"vdj_sequence\", \"lineage_id\", 'v_mismatch', 'donor', 'probable_hq_single_b_cell', 'subanatomical_location', 'tissue', 'locus', 'c_call', 'sample_uid', 'cb'])\n",
    "\n",
    "    # Drop rows with missing 'locus'\n",
    "    df = df.dropna(subset=['locus'])\n",
    "\n",
    "    # Subset to LNs\n",
    "    df_LN = df[df.tissue == 'LN']\n",
    "\n",
    "    # Print value counts for subanatomical locations within LNs\n",
    "    print(df_LN.subanatomical_location.value_counts())\n",
    "\n",
    "    # Identify sequences shared between LNs\n",
    "    shared_LNs = df_LN.groupby(seq_identifier)['subanatomical_location'].nunique() > 1\n",
    "    df['shared_LN_LN'] = df[seq_identifier].map(shared_LNs)\n",
    "\n",
    "    # Identify sequences found in a single LN\n",
    "    found_single_LN = df_LN.groupby(seq_identifier)['subanatomical_location'].nunique() == 1\n",
    "    df['found_in_single_LN'] = df[seq_identifier].map(found_single_LN)\n",
    "\n",
    "    \n",
    "\n",
    "    # Dictionary to hold shared categories\n",
    "    shared_categories = {\n",
    "        'shared_LN_SP': {'subanatomical': False, 'loc1': 'LN', 'loc2': 'SP'},\n",
    "        'shared_SP_PB': {'subanatomical': False, 'loc1': 'SP', 'loc2': 'PB'},\n",
    "        'shared_BM_PB': {'subanatomical': False, 'loc1': 'BM', 'loc2': 'PB'},\n",
    "        'shared_LN_PB': {'subanatomical': False, 'loc1': 'LN', 'loc2': 'PB'},\n",
    "        'shared_LN_BM': {'subanatomical': False, 'loc1': 'LN', 'loc2': 'BM'},\n",
    "        'shared_SP_BM': {'subanatomical': False, 'loc1': 'LN', 'loc2': 'BM'},\n",
    "    }\n",
    "    # Iterate through the dictionary to compute shared categories\n",
    "    for category, params in shared_categories.items():\n",
    "        shared = df.groupby(seq_identifier).apply(shared_locations, params['subanatomical'], params['loc1'], params['loc2'])\n",
    "        df[category] = df[seq_identifier].map(shared)\n",
    "    # Write the DataFrame to a file\n",
    "    df.reset_index().to_csv(sharing_outfile, sep=\"\\t\")\n",
    "# load output\n",
    "shared = pd.read_table(sharing_outfile, index_col = 0)\n",
    "print(shared.shape, \"antibody assemblies to analyze for sharing\")\n",
    "shared = shared[shared.probable_hq_single_b_cell == True]\n",
    "print(shared.shape, \"number of hq single B cells transcriptomes to detect GEX differences amongst shared cells\")\n",
    "# Merging the DataFrames with suffixes for common columns\n",
    "merged_df = pd.merge(adata.obs, shared, left_on=['cb', 'vdj_sequence'], right_on=['cb', 'vdj_sequence'], suffixes=('_left', ''), how='left')\n",
    "\n",
    "# Dropping the columns duplicated columns for df on right\n",
    "# Identify columns containing \"_right\" in their names\n",
    "cols_to_remove = [col for col in merged_df.columns if '_left' in col]\n",
    "\n",
    "# Drop the identified columns from the DataFrame\n",
    "merged_df.drop(columns=cols_to_remove, inplace=True)\n",
    "merged_df.index = adata.obs.index\n",
    "adata.obs = merged_df\n",
    "adata = adata[~adata.obs.sample_uid.isna()]"
   ]
  },
  {
   "cell_type": "markdown",
   "id": "f8f80575",
   "metadata": {},
   "source": [
    "# Function to check if two specific locations are shared within a group\n",
    "# Operates directly on the grouped object to avoid using apply.\n",
    "def shared_locations_optimized(grouped_df, subanatomical_column, loc1, loc2):\n",
    "    # Create a set for each group to hold unique locations\n",
    "    group_sets = {}\n",
    "    for name, group in grouped_df:\n",
    "        group_sets[name] = set(group[subanatomical_column])\n",
    "\n",
    "    # Check if loc1 and loc2 are in the set for each group\n",
    "    shared_dict = {name: loc1 in loc_set and loc2 in loc_set for name, loc_set in group_sets.items()}\n",
    "    \n",
    "    return shared_dict\n",
    "\n",
    "# Dictionary to hold shared categories\n",
    "shared_categories = {\n",
    "        'shared_LN_SP': {'subanatomical': False, 'loc1': 'LN', 'loc2': 'SP'},\n",
    "        'shared_SP_PB': {'subanatomical': False, 'loc1': 'SP', 'loc2': 'PB'},\n",
    "        'shared_BM_PB': {'subanatomical': False, 'loc1': 'BM', 'loc2': 'PB'},\n",
    "        'shared_LN_PB': {'subanatomical': False, 'loc1': 'LN', 'loc2': 'PB'},\n",
    "        'shared_LN_BM': {'subanatomical': False, 'loc1': 'LN', 'loc2': 'BM'},\n",
    "        'shared_SP_BM': {'subanatomical': False, 'loc1': 'LN', 'loc2': 'BM'},\n",
    "    }\n",
    "\n",
    "# Iterate through the dictionary to compute shared categories\n",
    "for category, params in shared_categories.items():\n",
    "    subanatomical_column = 'subanatomical_location' if params['subanatomical'] else 'tissue'\n",
    "    grouped_df = df.groupby(seq_identifier)\n",
    "    shared_dict = shared_locations_optimized(grouped_df, subanatomical_column, params['loc1'], params['loc2'])\n",
    "    \n",
    "    # Map the shared information back to the DataFrame\n",
    "    df[category] = df[seq_identifier].map(shared_dict)\n"
   ]
  },
  {
   "cell_type": "code",
   "execution_count": 7,
   "id": "b5ea90e8",
   "metadata": {},
   "outputs": [
    {
     "name": "stderr",
     "output_type": "stream",
     "text": [
      "/tmp/ipykernel_123466/3110350279.py:4: ImplicitModificationWarning: Trying to modify attribute `.obs` of view, initializing view as actual.\n",
      "  adata.obs[col] = adata.obs[col].astype(str)\n"
     ]
    }
   ],
   "source": [
    "# Convert all non-numeric columns in adata.obs to string\n",
    "for col in adata.obs.columns:\n",
    "    if not pd.api.types.is_numeric_dtype(adata.obs[col]):\n",
    "        adata.obs[col] = adata.obs[col].astype(str)\n",
    "\n",
    "# Now write to H5AD\n",
    "if restrict_to_TBd6:\n",
    "    adata.write_h5ad(\"TBd6_sharing.h5ad.gz\", compression='gzip')\n",
    "else:\n",
    "    adata.write_h5ad(\"all_sharing.h5ad.gz\", compression=\"gzip\")"
   ]
  },
  {
   "cell_type": "code",
   "execution_count": null,
   "id": "6fd2ee0c",
   "metadata": {},
   "outputs": [],
   "source": []
  }
 ],
 "metadata": {
  "kernelspec": {
   "display_name": "Python 3 (ipykernel)",
   "language": "python",
   "name": "python3"
  },
  "language_info": {
   "codemirror_mode": {
    "name": "ipython",
    "version": 3
   },
   "file_extension": ".py",
   "mimetype": "text/x-python",
   "name": "python",
   "nbconvert_exporter": "python",
   "pygments_lexer": "ipython3",
   "version": "3.11.4"
  }
 },
 "nbformat": 4,
 "nbformat_minor": 5
}
