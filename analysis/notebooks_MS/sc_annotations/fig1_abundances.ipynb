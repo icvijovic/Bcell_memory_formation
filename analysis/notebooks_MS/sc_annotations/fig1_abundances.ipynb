{
 "cells": [
  {
   "cell_type": "code",
   "execution_count": 140,
   "metadata": {},
   "outputs": [],
   "source": [
    "import pathlib\n",
    "import matplotlib as mpl\n",
    "import pandas as pd\n",
    "import scanpy as sc\n",
    "import seaborn as sns\n",
    "from matplotlib.ticker import NullLocator\n",
    "import matplotlib.lines as mlines\n",
    "%matplotlib inline\n",
    "from matplotlib import pyplot as plt\n",
    "savefig_args = {\n",
    "    \"dpi\": 300,\n",
    "    \"bbox_inches\": \"tight\",\n",
    "    \"pad_inches\": 0.2,\n",
    "    \"transparent\": True,\n",
    "}\n",
    "\n",
    "mpl.rc(\"savefig\", dpi=300)\n",
    "output_dir = \"/home/michaelswift/repos/tabula-bursa/analysis/figures/\"\n",
    "pathlib.Path(output_dir).mkdir(parents=True, exist_ok=True)\n",
    "sc._settings.figdir = output_dir\n",
    "output_suffix = \"\"\n",
    "output_formats = [\".png\",\".pdf\"]\n",
    "def save_figure(\n",
    "    fig,\n",
    "    name,\n",
    "    output_dir=output_dir,\n",
    "    output_suffix=output_suffix,\n",
    "    output_formats=output_formats,\n",
    "    savefig_args=savefig_args,\n",
    "):\n",
    "    for output_format in output_formats:\n",
    "        fig.savefig(\n",
    "            output_dir + \"/\" + name + output_suffix + output_format, **savefig_args\n",
    "        )\n",
    "    return None\n",
    "pd.set_option(\"display.max_rows\", 50)\n",
    "pd.set_option(\"display.max_columns\", 20)\n",
    "pd.set_option(\"display.width\", 100)\n",
    "\n",
    "plt.style.use('../bursa.mplstyle')\n",
    "sns.set_style(\"ticks\")"
   ]
  },
  {
   "cell_type": "code",
   "execution_count": 141,
   "metadata": {},
   "outputs": [
    {
     "data": {
      "text/plain": [
       "<Figure size 960x720 with 0 Axes>"
      ]
     },
     "metadata": {},
     "output_type": "display_data"
    }
   ],
   "source": [
    "%run ../helper.py"
   ]
  },
  {
   "cell_type": "code",
   "execution_count": 142,
   "metadata": {},
   "outputs": [
    {
     "name": "stderr",
     "output_type": "stream",
     "text": [
      "/tmp/ipykernel_77282/817578543.py:1: DtypeWarning: Columns (5,7) have mixed types. Specify dtype option on import or set low_memory=False.\n",
      "  df = pd.read_table(\"../../../data/bcells.obs.tsv.gz\")\n"
     ]
    }
   ],
   "source": [
    "df = pd.read_table(\"../../../data/bcells.obs.tsv.gz\")\n",
    "df = df[df.probable_hq_single_b_cell == True]\n",
    "df.loc[:,\"locus\"] = df.locus.fillna(\"Not Detected\")\n",
    "df.loc[:,\"detected\"] = df.locus.map({\"IGH\": \"Detected\", \"Not Detected\": \"Not Detected\"})\n",
    "df.loc[:,\"bcelltype\"] = df.celltypist"
   ]
  },
  {
   "cell_type": "code",
   "execution_count": 143,
   "metadata": {},
   "outputs": [],
   "source": [
    "df['bcelltype'] = df.celltypist.map(lambda x: celltypist_simpler.get(x,x))"
   ]
  },
  {
   "cell_type": "code",
   "execution_count": 144,
   "metadata": {},
   "outputs": [],
   "source": [
    "df_detected_vdj = df[df.detected == \"Detected\"]"
   ]
  },
  {
   "cell_type": "code",
   "execution_count": 145,
   "metadata": {},
   "outputs": [],
   "source": [
    "data = df_detected_vdj.groupby(['tissue', 'donor']).bcelltype.value_counts(normalize = True).reset_index()"
   ]
  },
  {
   "cell_type": "code",
   "execution_count": 146,
   "metadata": {},
   "outputs": [],
   "source": [
    "selection = data.groupby('bcelltype').proportion.mean() > 0.0005\n",
    "order = selection[selection].index"
   ]
  },
  {
   "cell_type": "code",
   "execution_count": 147,
   "metadata": {},
   "outputs": [],
   "source": [
    "# Group the data and count the occurrences of each 'bcelltype' in each ['tissue', 'donor'] group\n",
    "# Then reset the index to make it a DataFrame\n",
    "data = df_detected_vdj.groupby(['tissue', 'donor', 'bcelltype']).size().reset_index(name='count')\n",
    "\n",
    "# Create a pivot table to fill in missing 'bcelltype' for each ['tissue', 'donor'] group with 0\n",
    "pivot_data = pd.pivot_table(data, values='count', index=['tissue', 'donor'], columns='bcelltype', fill_value=0)\n",
    "\n",
    "# Normalize the counts to get the proportion and reset the index\n",
    "normalized_data = pivot_data.div(pivot_data.sum(axis=1), axis=0).reset_index()\n"
   ]
  },
  {
   "cell_type": "code",
   "execution_count": 148,
   "metadata": {},
   "outputs": [],
   "source": [
    "# Melt the DataFrame back to long form\n",
    "melted_data = pd.melt(normalized_data, id_vars=['tissue', 'donor'], var_name='bcelltype', value_name='proportion')\n",
    "\n",
    "# Add a pseudocount of 1e-5 to every proportion value\n",
    "melted_data['proportion'] += 1e-6\n"
   ]
  },
  {
   "cell_type": "code",
   "execution_count": 149,
   "metadata": {},
   "outputs": [],
   "source": [
    "melted_data = melted_data[melted_data.bcelltype.isin(order)]"
   ]
  },
  {
   "cell_type": "code",
   "execution_count": 150,
   "metadata": {},
   "outputs": [
    {
     "data": {
      "text/plain": [
       "<matplotlib.legend.Legend at 0x7f995a19ee90>"
      ]
     },
     "execution_count": 150,
     "metadata": {},
     "output_type": "execute_result"
    },
    {
     "data": {
      "image/png": "[encoded data removed]",
      "text/plain": [
       "<Figure size 337.5x187.5 with 1 Axes>"
      ]
     },
     "metadata": {},
     "output_type": "display_data"
    }
   ],
   "source": [
    "fig, ax = plt.subplots(1,1, figsize = (2.25, 1.25))\n",
    "sns.pointplot(data = melted_data, y = 'tissue', hue = 'bcelltype', x = 'proportion', join = False, dodge=True, errorbar=('pi', 99.9), scale = 0.5, errwidth=0.4, palette=bcelltype_colors_alt)\n",
    "ax.set_xscale(\"log\")\n",
    "sns.despine()\n",
    "ax.legend(bbox_to_anchor = (1.1,1))"
   ]
  },
  {
   "cell_type": "code",
   "execution_count": null,
   "metadata": {},
   "outputs": [],
   "source": []
  }
 ],
 "metadata": {
  "kernelspec": {
   "display_name": "Python 3 (ipykernel)",
   "language": "python",
   "name": "python3"
  },
  "language_info": {
   "codemirror_mode": {
    "name": "ipython",
    "version": 3
   },
   "file_extension": ".py",
   "mimetype": "text/x-python",
   "name": "python",
   "nbconvert_exporter": "python",
   "pygments_lexer": "ipython3",
   "version": "3.11.4"
  }
 },
 "nbformat": 4,
 "nbformat_minor": 4
}
