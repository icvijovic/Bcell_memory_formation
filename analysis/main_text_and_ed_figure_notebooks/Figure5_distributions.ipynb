{
 "cells": [
  {
   "cell_type": "code",
   "execution_count": 11,
   "id": "2bc19354-2bd5-41ae-8d17-8d881606a6d4",
   "metadata": {
    "tags": []
   },
   "outputs": [
    {
     "name": "stdout",
     "output_type": "stream",
     "text": [
      "The autoreload extension is already loaded. To reload it, use:\n",
      "  %reload_ext autoreload\n"
     ]
    }
   ],
   "source": [
    "import sys, glob\n",
    "\n",
    "import numpy as np\n",
    "import pandas as pd\n",
    "import matplotlib as mpl\n",
    "import matplotlib.pyplot as plt\n",
    "import seaborn as sns\n",
    "import matplotlib.gridspec as gs\n",
    "from itertools import permutations, combinations\n",
    "import scipy\n",
    "donors = [f'TBd{k}' for k in range(1,7)]\n",
    "TARGET_LOCUS='IGH'\n",
    "\n",
    "######################## PATH CONFIG ################################\n",
    "\n",
    "full_df_loc = '../../data/vdj/integrated_cell_calls_ambient_annotated.tsv.gz'\n",
    "ASC_subtype_df_loc = '../../data/vdj/ASC_subtypes.tab'\n",
    "sample_relationships_df_loc = '../../snakemake_workflow/samplesheets/sample_relationships.tsv'\n",
    "FIGURE_OUTDIR = '../figures/paper figures'\n",
    "######################## ############ ################################\n",
    "from tb_colormaps import *\n",
    "plt.style.use('./bursa.mplstyle')\n",
    "\n",
    "pd.set_option(\"display.max_rows\", 50)\n",
    "pd.set_option(\"display.max_columns\", 20)\n",
    "pd.set_option(\"display.width\", 100)\n",
    "%load_ext autoreload\n",
    "%autoreload 2\n"
   ]
  },
  {
   "attachments": {},
   "cell_type": "markdown",
   "id": "82c751b9-66ec-4f26-a95b-72188adda507",
   "metadata": {},
   "source": [
    "# Read data"
   ]
  },
  {
   "cell_type": "code",
   "execution_count": 12,
   "id": "3024f58c-98f2-43eb-b54a-684c8616198f",
   "metadata": {},
   "outputs": [],
   "source": [
    "df = pd.read_table(full_df_loc, low_memory=False, usecols = ['sample_uid_vdj',\n",
    "                                                             'sample_uid',\n",
    "                                                             'sample_uid_gex',\n",
    "                                                             'cb',\n",
    "                                                             'c_call',\n",
    "                                                             'vdj_sequence',\n",
    "                                                             'v_identity',\n",
    "                                                             'v_mismatch',\n",
    "                                                             'n_umis',\n",
    "                                                             'lineage_id',\n",
    "                                                             'donor', \n",
    "                                                             'tissue',\n",
    "                                                             'cycling',\n",
    "                                                             'correlation_cycling',\n",
    "                                                             'probable_hq_single_b_cell',\n",
    "                                                             'multiplet_status',\n",
    "                                                             'probable_hq_single_b_cell',\n",
    "                                                             'is_ambient_source',\n",
    "                                                             'vdj_is_from_ambient',\n",
    "                                                             'Immune_All_Low_predicted_labels'])\n",
    "df = df[(df.vdj_sequence.notna()) & (df.lineage_id.notna())]\n",
    "df['donor_tissue'] = df['donor'] + \"_\" + df['tissue']\n",
    "\n",
    "celltypist_simpler = {\n",
    "    \"Proliferative germinal center B cells\": \"GC B cells\",\n",
    "    \"Germinal center B cells\": \"GC B cells\", \n",
    "    \"Age-associated B cells\" : \"ABCs\"\n",
    "}\n",
    "\n",
    "ASC_subtype_df = pd.read_table(ASC_subtype_df_loc)\n",
    "\n",
    "ASC_subtype_df.columns=['barcode','subtype','sample_uid']\n",
    "ASC_subtype_df['cb'] = ASC_subtype_df.barcode.str.split(\"-\").map(lambda x: x[0])\n",
    "ASC_subtype_df['cb_suid'] = ASC_subtype_df['cb'] + \"_\" + ASC_subtype_df['sample_uid']\n",
    "ASC_subtype_dict = ASC_subtype_df.set_index('cb_suid')['subtype'].to_dict()\n",
    "df['cb_suid'] = df['cb'] + \"_\" + df['sample_uid']\n",
    "df['ASC_subtype'] = df.cb_suid.map(ASC_subtype_dict)\n",
    "df['celltype'] = df['Immune_All_Low_predicted_labels'].copy()\n",
    "df['celltype'] = df.celltype.map(lambda x: celltypist_simpler.get(x,x))\n",
    "df.loc[df.ASC_subtype.notna(), 'celltype'] = df['ASC_subtype']\n",
    "\n",
    "\n",
    "df_clean = df[(df.probable_hq_single_b_cell==True) & (df.multiplet_status==1) & ~(df.vdj_is_from_ambient == True).astype(bool)].copy()\n",
    "naive =df_clean.Immune_All_Low_predicted_labels == 'Naive B cells'\n",
    "unswitched = df_clean.c_call.isin(['IGHM','IGHD'])\n",
    "permitted = (naive & unswitched) | ~(naive.astype(bool))\n",
    "df_clean = df_clean[permitted]\n",
    "df_clean = df_clean[~df_clean.celltype.str.startswith('Plasma')]\n"
   ]
  },
  {
   "cell_type": "code",
   "execution_count": null,
   "id": "9f4eee66-ac45-4aae-9f1a-8c41013f13c6",
   "metadata": {},
   "outputs": [],
   "source": [
    "lineage_sizes = df.groupby(['donor','lineage_id']).size().to_dict()\n",
    "df['lineage_size'] = df.apply(lambda x: lineage_sizes[(x.donor, x.lineage_id)],\n",
    "                             axis=1)\n",
    "lineage_sizes = df_clean.groupby(['donor','lineage_id']).size().to_dict()\n",
    "df_clean['lineage_size'] = df_clean.apply(lambda x: lineage_sizes[(x.donor, x.lineage_id)],\n",
    "                             axis=1)"
   ]
  },
  {
   "cell_type": "code",
   "execution_count": null,
   "id": "23d4dd8b-1d0c-447d-8cd3-52c7bcf4c535",
   "metadata": {},
   "outputs": [
    {
     "name": "stdout",
     "output_type": "stream",
     "text": [
      "BM    465824\n",
      "LN    310026\n",
      "SP    204151\n",
      "PB    180736\n",
      "Name: tissue, dtype: int64\n",
      "IGHM     451812\n",
      "IGHA1    217365\n",
      "IGHG1    214664\n",
      "IGHG2    115329\n",
      "IGHD      90095\n",
      "IGHA2     34071\n",
      "IGHG3     30323\n",
      "IGHG4      6469\n",
      "IGHE        337\n",
      "Name: c_call, dtype: int64\n"
     ]
    }
   ],
   "source": [
    "v_mismatch_dict = df[['vdj_sequence', \n",
    "                      'v_mismatch']].drop_duplicates(ignore_index=True).set_index('vdj_sequence')\n",
    "v_mismatch_dict = v_mismatch_dict.to_dict()['v_mismatch']\n",
    "\n",
    "celltype_dict = df_clean.groupby(['donor','lineage_id','vdj_sequence'])['celltype'].agg(list)\n",
    "celltype_dict = celltype_dict.to_dict()\n",
    "all_celltypes = df_clean.celltype.value_counts()\n",
    "all_celltypes = all_celltypes[all_celltypes>10]\n",
    "\n",
    "tissue_dict = df.groupby(['donor','lineage_id','vdj_sequence'])['tissue'].agg(list)\n",
    "tissue_dict = tissue_dict.to_dict()\n",
    "all_tissues = df.tissue.value_counts()\n",
    "print(all_tissues)\n",
    "\n",
    "isotype_dict = df.groupby(['donor','lineage_id','vdj_sequence'])['c_call'].agg(list)\n",
    "isotype_dict = isotype_dict.to_dict()\n",
    "all_isotypes = df.c_call.value_counts()\n",
    "all_isotypes = all_isotypes[all_isotypes>300]\n",
    "print(all_isotypes)\n"
   ]
  },
  {
   "cell_type": "code",
   "execution_count": null,
   "id": "d92115d5",
   "metadata": {},
   "outputs": [],
   "source": [
    "test_variables = [('tissue', tissue_dict, all_tissues, tissue_colors),\n",
    "                  ('celltype', celltype_dict, all_celltypes, bcelltype_colors_alt),\n",
    "                  ('isotype', isotype_dict, all_isotypes, IGH_colors)]"
   ]
  },
  {
   "attachments": {},
   "cell_type": "markdown",
   "id": "53e38fa5-7e76-4dc8-a326-32651c0a2853",
   "metadata": {},
   "source": [
    "# Drop down to unique vdj sequences"
   ]
  },
  {
   "cell_type": "code",
   "execution_count": null,
   "id": "208c4202-3ae7-4bbd-a36e-96f185f0495c",
   "metadata": {},
   "outputs": [],
   "source": [
    "df = df[['vdj_sequence','donor','lineage_id', 'v_mismatch']].drop_duplicates(ignore_index=True)\n",
    "df['lineage_uid'] = df['donor'] + \"_\" + df['lineage_id'].astype(str)"
   ]
  },
  {
   "attachments": {},
   "cell_type": "markdown",
   "id": "430012b7-e585-4269-8852-41dab172e453",
   "metadata": {},
   "source": [
    "# Analyze distribution within lineage"
   ]
  },
  {
   "cell_type": "code",
   "execution_count": null,
   "id": "ee210be6-16d4-4f66-be0c-11307ac8fead",
   "metadata": {},
   "outputs": [
    {
     "name": "stdout",
     "output_type": "stream",
     "text": [
      "Started with  542912 lineages in entire dataset\n",
      "Retaining only lineages with at least 3 unique sequences, a total of  26859 lineages\n"
     ]
    },
    {
     "name": "stderr",
     "output_type": "stream",
     "text": [
      "/var/folders/dz/swf8xvz50dv721hmb0b_nps00000gn/T/ipykernel_4313/1041516321.py:21: RuntimeWarning: invalid value encountered in double_scalars\n",
      "  (x.v_mismatch - mut_min_max.loc[x.lineage_uid,'min'])/\n"
     ]
    }
   ],
   "source": [
    "new_df = df.copy()\n",
    "\n",
    "for variable_tuple in test_variables:\n",
    "    variable, variable_dict, all_variable_counts, palette = variable_tuple\n",
    "    for label in all_variable_counts.index:\n",
    "        new_df[label] = new_df.apply(lambda x: label in variable_dict.get((x.donor,\n",
    "                                                                x.lineage_id,\n",
    "                                                                x.vdj_sequence), []), axis=1)\n",
    "new_df = new_df[(~new_df['Naive B cells'])|(new_df.v_mismatch<5)]\n",
    "lineage_sizes = new_df.groupby('lineage_uid').size()\n",
    "mut_min_max = new_df.groupby(['lineage_uid'])['v_mismatch'].agg(['min','max','mean','median'])\n",
    "new_df['lineage_size'] = new_df.lineage_uid.map(lineage_sizes)\n",
    "new_df['lineage_size_rank'] = new_df.groupby(['donor'])['lineage_size'].rank(method='first')#.astype(str)\n",
    "print(\"Started with \", new_df.lineage_uid.nunique(), \"lineages in entire dataset\")\n",
    "new_df = new_df[new_df.lineage_size > 2]\n",
    "print(\"Retaining only lineages with at least 3 unique sequences, a total of \", new_df.lineage_uid.nunique(), \"lineages\")\n",
    "\n",
    "new_df['v_mismatch'] = new_df.vdj_sequence.map(v_mismatch_dict)\n",
    "new_df['hm_rank']= new_df.groupby(['lineage_uid'])['v_mismatch'].rank(method='first')\n",
    "new_df['hm_level'] = new_df.apply(lambda x:\n",
    "                                                 (x.v_mismatch - mut_min_max.loc[x.lineage_uid,'min'])/\n",
    "                                                  ( mut_min_max.loc[x.lineage_uid,'max'] - \n",
    "                                                   mut_min_max.loc[x.lineage_uid,'min']), \n",
    "                                                  axis=1)\n",
    "new_df['hm_diff'] = new_df.apply(lambda x:\n",
    "                                                 (x.v_mismatch - mut_min_max.loc[x.lineage_uid,'min']), \n",
    "                                                  axis=1)"
   ]
  },
  {
   "cell_type": "code",
   "execution_count": null,
   "id": "49fcd578-2716-4b25-9ca7-42b888ad4dd0",
   "metadata": {
    "tags": []
   },
   "outputs": [
    {
     "name": "stderr",
     "output_type": "stream",
     "text": [
      "/var/folders/dz/swf8xvz50dv721hmb0b_nps00000gn/T/ipykernel_4313/1745290341.py:60: RuntimeWarning: invalid value encountered in divide\n",
      "  -np.log(subset_min/data_fraction)/np.log(2),\n",
      "/var/folders/dz/swf8xvz50dv721hmb0b_nps00000gn/T/ipykernel_4313/1745290341.py:61: RuntimeWarning: invalid value encountered in divide\n",
      "  -np.log(subset_max/data_fraction)/np.log(2),\n",
      "/var/folders/dz/swf8xvz50dv721hmb0b_nps00000gn/T/ipykernel_4313/1745290341.py:60: RuntimeWarning: invalid value encountered in divide\n",
      "  -np.log(subset_min/data_fraction)/np.log(2),\n",
      "/var/folders/dz/swf8xvz50dv721hmb0b_nps00000gn/T/ipykernel_4313/1745290341.py:61: RuntimeWarning: invalid value encountered in divide\n",
      "  -np.log(subset_max/data_fraction)/np.log(2),\n",
      "/var/folders/dz/swf8xvz50dv721hmb0b_nps00000gn/T/ipykernel_4313/1745290341.py:60: RuntimeWarning: invalid value encountered in divide\n",
      "  -np.log(subset_min/data_fraction)/np.log(2),\n",
      "/var/folders/dz/swf8xvz50dv721hmb0b_nps00000gn/T/ipykernel_4313/1745290341.py:61: RuntimeWarning: invalid value encountered in divide\n",
      "  -np.log(subset_max/data_fraction)/np.log(2),\n",
      "/var/folders/dz/swf8xvz50dv721hmb0b_nps00000gn/T/ipykernel_4313/1745290341.py:60: RuntimeWarning: invalid value encountered in divide\n",
      "  -np.log(subset_min/data_fraction)/np.log(2),\n",
      "/var/folders/dz/swf8xvz50dv721hmb0b_nps00000gn/T/ipykernel_4313/1745290341.py:61: RuntimeWarning: invalid value encountered in divide\n",
      "  -np.log(subset_max/data_fraction)/np.log(2),\n",
      "/var/folders/dz/swf8xvz50dv721hmb0b_nps00000gn/T/ipykernel_4313/1745290341.py:60: RuntimeWarning: invalid value encountered in divide\n",
      "  -np.log(subset_min/data_fraction)/np.log(2),\n",
      "/var/folders/dz/swf8xvz50dv721hmb0b_nps00000gn/T/ipykernel_4313/1745290341.py:61: RuntimeWarning: invalid value encountered in divide\n",
      "  -np.log(subset_max/data_fraction)/np.log(2),\n",
      "/var/folders/dz/swf8xvz50dv721hmb0b_nps00000gn/T/ipykernel_4313/1745290341.py:60: RuntimeWarning: invalid value encountered in divide\n",
      "  -np.log(subset_min/data_fraction)/np.log(2),\n",
      "/var/folders/dz/swf8xvz50dv721hmb0b_nps00000gn/T/ipykernel_4313/1745290341.py:61: RuntimeWarning: invalid value encountered in divide\n",
      "  -np.log(subset_max/data_fraction)/np.log(2),\n",
      "/var/folders/dz/swf8xvz50dv721hmb0b_nps00000gn/T/ipykernel_4313/1745290341.py:60: RuntimeWarning: invalid value encountered in divide\n",
      "  -np.log(subset_min/data_fraction)/np.log(2),\n",
      "/var/folders/dz/swf8xvz50dv721hmb0b_nps00000gn/T/ipykernel_4313/1745290341.py:61: RuntimeWarning: invalid value encountered in divide\n",
      "  -np.log(subset_max/data_fraction)/np.log(2),\n",
      "/var/folders/dz/swf8xvz50dv721hmb0b_nps00000gn/T/ipykernel_4313/1745290341.py:60: RuntimeWarning: invalid value encountered in divide\n",
      "  -np.log(subset_min/data_fraction)/np.log(2),\n",
      "/var/folders/dz/swf8xvz50dv721hmb0b_nps00000gn/T/ipykernel_4313/1745290341.py:61: RuntimeWarning: invalid value encountered in divide\n",
      "  -np.log(subset_max/data_fraction)/np.log(2),\n",
      "/var/folders/dz/swf8xvz50dv721hmb0b_nps00000gn/T/ipykernel_4313/1745290341.py:60: RuntimeWarning: invalid value encountered in divide\n",
      "  -np.log(subset_min/data_fraction)/np.log(2),\n",
      "/var/folders/dz/swf8xvz50dv721hmb0b_nps00000gn/T/ipykernel_4313/1745290341.py:61: RuntimeWarning: invalid value encountered in divide\n",
      "  -np.log(subset_max/data_fraction)/np.log(2),\n",
      "/var/folders/dz/swf8xvz50dv721hmb0b_nps00000gn/T/ipykernel_4313/1745290341.py:60: RuntimeWarning: invalid value encountered in divide\n",
      "  -np.log(subset_min/data_fraction)/np.log(2),\n",
      "/var/folders/dz/swf8xvz50dv721hmb0b_nps00000gn/T/ipykernel_4313/1745290341.py:61: RuntimeWarning: invalid value encountered in divide\n",
      "  -np.log(subset_max/data_fraction)/np.log(2),\n",
      "/var/folders/dz/swf8xvz50dv721hmb0b_nps00000gn/T/ipykernel_4313/1745290341.py:60: RuntimeWarning: invalid value encountered in divide\n",
      "  -np.log(subset_min/data_fraction)/np.log(2),\n",
      "/var/folders/dz/swf8xvz50dv721hmb0b_nps00000gn/T/ipykernel_4313/1745290341.py:61: RuntimeWarning: invalid value encountered in divide\n",
      "  -np.log(subset_max/data_fraction)/np.log(2),\n",
      "/var/folders/dz/swf8xvz50dv721hmb0b_nps00000gn/T/ipykernel_4313/1745290341.py:60: RuntimeWarning: invalid value encountered in divide\n",
      "  -np.log(subset_min/data_fraction)/np.log(2),\n",
      "/var/folders/dz/swf8xvz50dv721hmb0b_nps00000gn/T/ipykernel_4313/1745290341.py:61: RuntimeWarning: invalid value encountered in divide\n",
      "  -np.log(subset_max/data_fraction)/np.log(2),\n",
      "/var/folders/dz/swf8xvz50dv721hmb0b_nps00000gn/T/ipykernel_4313/1745290341.py:60: RuntimeWarning: invalid value encountered in divide\n",
      "  -np.log(subset_min/data_fraction)/np.log(2),\n",
      "/var/folders/dz/swf8xvz50dv721hmb0b_nps00000gn/T/ipykernel_4313/1745290341.py:61: RuntimeWarning: invalid value encountered in divide\n",
      "  -np.log(subset_max/data_fraction)/np.log(2),\n"
     ]
    },
    {
     "data": {
      "image/png": "[encoded data removed]",
      "text/plain": [
       "<Figure size 337.5x337.5 with 4 Axes>"
      ]
     },
     "metadata": {
      "needs_background": "light"
     },
     "output_type": "display_data"
    },
    {
     "data": {
      "image/png": "[encoded data removed]",
      "text/plain": [
       "<Figure size 787.5x337.5 with 9 Axes>"
      ]
     },
     "metadata": {
      "needs_background": "light"
     },
     "output_type": "display_data"
    }
   ],
   "source": [
    "layout = {'tissue':(2,2),\n",
    "          'celltype':(2,4),\n",
    "          'isotype':(2,5)}\n",
    "\n",
    "xvals = np.linspace(-0.001,1,200)\n",
    "\n",
    "def calculate_complementary_cdf(xvals, yvals):\n",
    "    complementary_cdf = np.asarray([(yvals>x).sum() for x in xvals])\n",
    "    complementary_cdf = complementary_cdf/complementary_cdf[0]\n",
    "    return complementary_cdf\n",
    "\n",
    "for stat in ['hm_level']:\n",
    "    for variable_tuple in test_variables:\n",
    "        variable, variable_dict, all_variable_counts, palette = variable_tuple\n",
    "        nvars = len(all_variable_counts)\n",
    "        nrows, ncols = layout[variable]\n",
    "        fig, ax = plt.subplots(nrows,ncols, figsize=(1*ncols+0.25,1*nrows+0.25), sharex=True, sharey=True)\n",
    "        ax = ax.flatten()\n",
    "        if len(ax) > len(all_variable_counts):\n",
    "            for it in range(len(all_variable_counts), len(ax)):\n",
    "                ax[it].remove()\n",
    "        for i, label in enumerate(all_variable_counts.index):\n",
    "            axes = ax[i]\n",
    "            bbox = axes.get_position()\n",
    "            x, y, w, h = bbox.bounds\n",
    "\n",
    "            inset_x, inset_y = x + w*0.6, y + h*0.6\n",
    "            inset_w, inset_h = w*0.3, h*0.3\n",
    "\n",
    "            # inset_ax = fig.add_axes([inset_x, inset_y, inset_w, inset_h])\n",
    "            # inset_ax.tick_params(direction='in', length=0.5, width=1, labelsize=6, pad=1)\n",
    "\n",
    "            #first calculate data stats and plot 1-1 line with null\n",
    "            yvals = new_df.loc[new_df[label] & new_df.v_mismatch > 0, stat].values\n",
    "            data_fraction = calculate_complementary_cdf(xvals, yvals)\n",
    "            axes.plot(xvals, np.zeros(len(xvals)), color='k', lw=0.5)\n",
    "            # now plot_permutations\n",
    "            n = new_df[label].sum()\n",
    "\n",
    "            weight_dict = ((new_df.groupby(['lineage_uid'])[label].sum()+0.001)/(new_df.groupby(['lineage_uid']).size()+0.001)).to_dict()\n",
    "            weights = new_df.lineage_uid.map(weight_dict)\n",
    "            subsets = []\n",
    "            for it in range(20):\n",
    "                random_subset = new_df.sample(n, weights=weights)\n",
    "                random_subset = new_df[new_df.v_mismatch > 0].sample(n, weights=weights)\n",
    "\n",
    "                resample_fraction = calculate_complementary_cdf(xvals, random_subset[stat].values)\n",
    "                subsets.append(resample_fraction)\n",
    "            \n",
    "            subsets = np.asarray(subsets)\n",
    "            subset_min = np.min(subsets, axis=0)\n",
    "            subset_max = np.max(subsets, axis=0)\n",
    "            axes.fill_between(xvals, \n",
    "                              -np.log(subset_min/data_fraction)/np.log(2), \n",
    "                              -np.log(subset_max/data_fraction)/np.log(2), \n",
    "                               color=palette[label], \n",
    "                               alpha=0.8, \n",
    "                               lw=0.3)\n",
    "\n",
    "            ax[i].set_title(f\"{label}\", fontsize=7)\n",
    "            ax[i].set_xlabel('')\n",
    "            ax[i].set_ylabel('')\n",
    "            if variable == 'celltype':\n",
    "                ax[i].set_ylim([-2,2])\n",
    "            else:\n",
    "                ax[i].set_ylim([-0.5,0.5])\n",
    "            # inset_ax.set_xlabel('')\n",
    "            # inset_ax.set_ylabel('')\n",
    "        for axes in ax:\n",
    "            sns.despine(ax=axes)\n",
    "        fig.supylabel('log2(measured CDF) \\n - log2(null CDF)', fontsize=7)\n",
    "        fig.supxlabel(\"Relative hypermutation level within lineage\", fontsize=7)\n",
    "        fig.tight_layout()\n",
    "        fig.savefig(f'{FIGURE_OUTDIR}/Figure5_{variable}_distributions_within_lineage.pdf', bbox_inches='tight')"
   ]
  },
  {
   "cell_type": "code",
   "execution_count": null,
   "id": "12ce8d18-345c-4cc1-afd0-629c401c4838",
   "metadata": {},
   "outputs": [],
   "source": [
    "order = {\"Naive B cells\":0,\n",
    "         \"Memory B cells\":1,\n",
    "         'GC B cells':2,\n",
    "         \"ABCs\":3, \n",
    "         \"ASC-1\":4, \n",
    "         \"ASC-2\":5, \n",
    "         \"ASC-3\":6, \n",
    "         \"ASC-4\":7}\n",
    "order.update({'PB':0,\n",
    "              'BM':1,\n",
    "              'SP':2,\n",
    "              'LN':3})\n",
    "\n",
    "order.update({'IGHM':0,\n",
    "             'IGHD':1,\n",
    "              'IGHA1':2,\n",
    "              'IGHA2':3,\n",
    "              'IGHG1':4,\n",
    "              'IGHG2':5,\n",
    "              'IGHG3':6,\n",
    "              'IGHG4':7,\n",
    "              'IGHE':8})\n",
    "bins = {'v_mismatch':np.linspace(0,100,40)}\n",
    "\n",
    "stat='v_mismatch'\n",
    "\n",
    "fig, ax = plt.subplots(3,1, figsize=(3.5,4.5), sharex=True, sharey=True)\n",
    "\n",
    "for ax_it, variable_tuple in enumerate(test_variables):\n",
    "        variable, variable_dict, all_variable_counts, palette = variable_tuple\n",
    "        axes = ax[ax_it]\n",
    "\n",
    "        for i, label in enumerate(all_variable_counts.index):\n",
    "            target_lineages = new_df.groupby('lineage_uid')[label].sum() > 0\n",
    "            target_lineages = target_lineages[target_lineages].index.values\n",
    "            target_lineages = new_df.lineage_uid.isin(target_lineages)\n",
    "            # print(label, target_lineages.shape)\n",
    "            if target_lineages.sum()>0:\n",
    "                legend_label = label#.strip(\"s\") + \"\"\n",
    "                sns.ecdfplot(new_df[target_lineages & new_df.v_mismatch >0], \n",
    "                            x=stat, \n",
    "                            complementary=True, \n",
    "                            ax=axes,\n",
    "                            label=legend_label, \n",
    "                            color=palette[label],\n",
    "                            lw=0.5)\n",
    "                axes.set_xlim([0,80])\n",
    "\n",
    "        # Get current legend handles and labels\n",
    "        handles, labels = axes.get_legend_handles_labels()\n",
    "\n",
    "        # Step 4: Sort handles and labels based on desired order\n",
    "        handles, labels = zip(*sorted(zip(handles, labels), key=lambda t: order[t[1]]))\n",
    "\n",
    "        # Step 5: Create a new legend with sorted handles and labels\n",
    "        axes.legend(handles, labels, loc='upper left', frameon=False, bbox_to_anchor=(1.0,1.1), title=variable)\n",
    "        axes.set_xlabel('Number of IGHV hypermutations')\n",
    "        axes.set_ylabel('Proportion\\ngreater')\n",
    "        sns.despine(fig)\n",
    "        fig.tight_layout()\n",
    "        fig.savefig(f'{FIGURE_OUTDIR}/Figure5_cells_in_lineage_containing_v_mismatch_wide.pdf', bbox_inches='tight')"
   ]
  },
  {
   "cell_type": "code",
   "execution_count": null,
   "id": "bcc683e1",
   "metadata": {},
   "outputs": [],
   "source": [
    "# df = df[['vdj_sequence','donor','lineage_id', 'v_mismatch','c_call','tissue']].drop_duplicates(ignore_index=True)\n"
   ]
  }
 ],
 "metadata": {
  "kernelspec": {
   "display_name": "Python 3 (ipykernel)",
   "language": "python",
   "name": "python3"
  },
  "language_info": {
   "codemirror_mode": {
    "name": "ipython",
    "version": 3
   },
   "file_extension": ".py",
   "mimetype": "text/x-python",
   "name": "python",
   "nbconvert_exporter": "python",
   "pygments_lexer": "ipython3",
   "version": "3.10.8"
  },
  "toc-autonumbering": true,
  "toc-showmarkdowntxt": false
 },
 "nbformat": 4,
 "nbformat_minor": 5
}
