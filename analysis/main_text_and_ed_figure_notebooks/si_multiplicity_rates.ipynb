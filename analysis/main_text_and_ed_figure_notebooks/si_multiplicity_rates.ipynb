{
 "cells": [
  {
   "cell_type": "code",
   "execution_count": 14,
   "metadata": {},
   "outputs": [
    {
     "name": "stderr",
     "output_type": "stream",
     "text": [
      "/var/folders/dz/swf8xvz50dv721hmb0b_nps00000gn/T/ipykernel_44456/418428226.py:26: DtypeWarning: Columns (2,4,83,121) have mixed types. Specify dtype option on import or set low_memory=False.\n",
      "  df = pd.read_table(df_loc, usecols = ['sample_uid',\n"
     ]
    }
   ],
   "source": [
    "import sys, glob\n",
    "\n",
    "import numpy as np\n",
    "import pandas as pd\n",
    "import matplotlib.pyplot as plt\n",
    "from matplotlib import gridspec\n",
    "import seaborn as sns\n",
    "from tb_colormaps import * \n",
    "\n",
    "plt.style.use('bursa.mplstyle')\n",
    "\n",
    "######################## PATH CONFIG ################################\n",
    "\n",
    "df_loc = '../../data/vdj/integrated_cell_calls_ambient_annotated.tsv.gz'\n",
    "FIGURE_OUTDIR = 'analysis/figures/si figures/'\n",
    "\n",
    "######################## ############ ################################\n",
    "\n",
    "tissue_indices = {'P':0,\n",
    "                  'B':1,\n",
    "                  'L':2,\n",
    "                  'S':3\n",
    "                 }\n",
    "\n",
    "\n",
    "df = pd.read_table(df_loc, usecols = ['sample_uid',\n",
    "                                  'sample_uid_gex',\n",
    "                                  'vdj_sequence',\n",
    "                                  'n_umis',\n",
    "                                  'v_pident',\n",
    "                                  'donor',\n",
    "                                  'tissue',\n",
    "                                  'locus',\n",
    "                                  'contaminant_status',\n",
    "                                  'multiplet_status',\n",
    "                                  'probable_hq_single_b_cell',\n",
    "                                  'vdj_is_from_ambient',\n",
    "                                  'is_ambient_source'], \n",
    "                                                nrows=None)\n",
    "\n"
   ]
  },
  {
   "cell_type": "code",
   "execution_count": 15,
   "metadata": {},
   "outputs": [
    {
     "name": "stdout",
     "output_type": "stream",
     "text": [
      "Starting with 1460060 VDJ sequences\n",
      "After dropping contaminants and VDJ-free droplets:  1160737\n",
      "After dropping ambient:  1158331\n"
     ]
    }
   ],
   "source": [
    "print('Starting with', df.shape[0], 'VDJ sequences')\n",
    "df = df[df.vdj_sequence.notna()]\n",
    "df = df[df.contaminant_status.isin(['unlikely_contaminant','source'])]\n",
    "print('After dropping contaminants and VDJ-free droplets: ', df.shape[0])\n",
    "\n",
    "acceptable_cells = ((~(df.vdj_is_from_ambient==True).astype(bool)) \n",
    "                    | (df.is_ambient_source==True).astype(bool))\n",
    "df = df[acceptable_cells]\n",
    "print('After dropping ambient: ', df.shape[0])\n",
    "\n"
   ]
  },
  {
   "cell_type": "code",
   "execution_count": 16,
   "metadata": {},
   "outputs": [],
   "source": [
    "df['is_overloaded'] = df.sample_uid_gex.isna()\n",
    "df['is_overloaded'] = df.is_overloaded.map({True:\"VDJ only\", False:\"VDJ+GEX\"})\n",
    "multiplet_counts = df.groupby(['sample_uid','tissue','is_overloaded'])['multiplet_status'].value_counts(normalize=True)\n"
   ]
  },
  {
   "cell_type": "code",
   "execution_count": 17,
   "metadata": {},
   "outputs": [],
   "source": [
    "multiplet_counts.name = 'fraction'\n",
    "multiplet_counts = multiplet_counts.reset_index()\n"
   ]
  },
  {
   "cell_type": "code",
   "execution_count": 22,
   "metadata": {},
   "outputs": [
    {
     "data": {
      "image/png": "[encoded data removed]",
      "text/plain": [
       "<Figure size 600x225 with 2 Axes>"
      ]
     },
     "metadata": {
      "needs_background": "light"
     },
     "output_type": "display_data"
    }
   ],
   "source": [
    "fig, ax = plt.subplots(1,2, figsize=(4,1.5), sharey=True)\n",
    "g = sns.ecdfplot(data=multiplet_counts[multiplet_counts.multiplet_status==1],\n",
    "             x='fraction',\n",
    "            hue='is_overloaded',\n",
    "            stat='proportion',\n",
    "            ax=ax[0])\n",
    "ax[0].set_xlabel('Singlet rate in\\nVDJ-containing droplets')\n",
    "ax[0].set_ylabel('Fraction of samples greater')\n",
    "sns.despine(fig)\n",
    "sns.move_legend(g, frameon=False, loc='upper left', title='Sample type')\n",
    "\n",
    "multiplet_counts['weight'] = multiplet_counts.multiplet_status * multiplet_counts.fraction\n",
    "mean_multiplicity = multiplet_counts.groupby(['sample_uid', 'is_overloaded'])['weight'].sum()\n",
    "\n",
    "sns.ecdfplot(mean_multiplicity.reset_index(), x='weight', hue='is_overloaded', ax=ax[1], legend=False)\n",
    "ax[1].set_xlabel('Mean VDJs per\\nVDJ-containing droplet')\n",
    "\n",
    "fig.savefig('../figures/si figures/droplet_multiplicity.pdf', bbox_inches='tight')\n"
   ]
  },
  {
   "cell_type": "markdown",
   "metadata": {},
   "source": []
  },
  {
   "cell_type": "code",
   "execution_count": 19,
   "metadata": {},
   "outputs": [
    {
     "data": {
      "text/html": [
       "<div>\n",
       "<style scoped>\n",
       "    .dataframe tbody tr th:only-of-type {\n",
       "        vertical-align: middle;\n",
       "    }\n",
       "\n",
       "    .dataframe tbody tr th {\n",
       "        vertical-align: top;\n",
       "    }\n",
       "\n",
       "    .dataframe thead th {\n",
       "        text-align: right;\n",
       "    }\n",
       "</style>\n",
       "<table border=\"1\" class=\"dataframe\">\n",
       "  <thead>\n",
       "    <tr style=\"text-align: right;\">\n",
       "      <th></th>\n",
       "      <th>sample_uid</th>\n",
       "      <th>tissue</th>\n",
       "      <th>is_overloaded</th>\n",
       "      <th>multiplet_status</th>\n",
       "      <th>fraction</th>\n",
       "      <th>weight</th>\n",
       "    </tr>\n",
       "  </thead>\n",
       "  <tbody>\n",
       "    <tr>\n",
       "      <th>126</th>\n",
       "      <td>TBd4_frozen_BMover_HTa</td>\n",
       "      <td>BM</td>\n",
       "      <td>VDJ only</td>\n",
       "      <td>1</td>\n",
       "      <td>0.696248</td>\n",
       "      <td>0.696248</td>\n",
       "    </tr>\n",
       "    <tr>\n",
       "      <th>130</th>\n",
       "      <td>TBd4_frozen_BMover_HTb</td>\n",
       "      <td>BM</td>\n",
       "      <td>VDJ only</td>\n",
       "      <td>1</td>\n",
       "      <td>0.710990</td>\n",
       "      <td>0.710990</td>\n",
       "    </tr>\n",
       "    <tr>\n",
       "      <th>148</th>\n",
       "      <td>TBd5_fresh_BM_a</td>\n",
       "      <td>BM</td>\n",
       "      <td>VDJ only</td>\n",
       "      <td>1</td>\n",
       "      <td>0.227210</td>\n",
       "      <td>0.227210</td>\n",
       "    </tr>\n",
       "    <tr>\n",
       "      <th>153</th>\n",
       "      <td>TBd5_fresh_BM_b</td>\n",
       "      <td>BM</td>\n",
       "      <td>VDJ only</td>\n",
       "      <td>1</td>\n",
       "      <td>0.356110</td>\n",
       "      <td>0.356110</td>\n",
       "    </tr>\n",
       "    <tr>\n",
       "      <th>167</th>\n",
       "      <td>TBd5_fresh_SP</td>\n",
       "      <td>SP</td>\n",
       "      <td>VDJ only</td>\n",
       "      <td>1</td>\n",
       "      <td>0.768243</td>\n",
       "      <td>0.768243</td>\n",
       "    </tr>\n",
       "    <tr>\n",
       "      <th>223</th>\n",
       "      <td>TBd6_fresh_BMover</td>\n",
       "      <td>BM</td>\n",
       "      <td>VDJ only</td>\n",
       "      <td>1</td>\n",
       "      <td>0.553303</td>\n",
       "      <td>0.553303</td>\n",
       "    </tr>\n",
       "    <tr>\n",
       "      <th>243</th>\n",
       "      <td>TBd6_fresh_SDLN3over</td>\n",
       "      <td>LN</td>\n",
       "      <td>VDJ only</td>\n",
       "      <td>1</td>\n",
       "      <td>0.788646</td>\n",
       "      <td>0.788646</td>\n",
       "    </tr>\n",
       "    <tr>\n",
       "      <th>251</th>\n",
       "      <td>TBd6_fresh_SPover</td>\n",
       "      <td>SP</td>\n",
       "      <td>VDJ only</td>\n",
       "      <td>1</td>\n",
       "      <td>0.788401</td>\n",
       "      <td>0.788401</td>\n",
       "    </tr>\n",
       "  </tbody>\n",
       "</table>\n",
       "</div>"
      ],
      "text/plain": [
       "                 sample_uid tissue is_overloaded  multiplet_status  fraction  \\\n",
       "126  TBd4_frozen_BMover_HTa     BM      VDJ only                 1  0.696248   \n",
       "130  TBd4_frozen_BMover_HTb     BM      VDJ only                 1  0.710990   \n",
       "148         TBd5_fresh_BM_a     BM      VDJ only                 1  0.227210   \n",
       "153         TBd5_fresh_BM_b     BM      VDJ only                 1  0.356110   \n",
       "167           TBd5_fresh_SP     SP      VDJ only                 1  0.768243   \n",
       "223       TBd6_fresh_BMover     BM      VDJ only                 1  0.553303   \n",
       "243    TBd6_fresh_SDLN3over     LN      VDJ only                 1  0.788646   \n",
       "251       TBd6_fresh_SPover     SP      VDJ only                 1  0.788401   \n",
       "\n",
       "       weight  \n",
       "126  0.696248  \n",
       "130  0.710990  \n",
       "148  0.227210  \n",
       "153  0.356110  \n",
       "167  0.768243  \n",
       "223  0.553303  \n",
       "243  0.788646  \n",
       "251  0.788401  "
      ]
     },
     "execution_count": 19,
     "metadata": {},
     "output_type": "execute_result"
    }
   ],
   "source": [
    "high_multiplicity_samples = multiplet_counts[(multiplet_counts.multiplet_status==1) & (multiplet_counts.fraction<0.8)]\n",
    "high_multiplicity_samples"
   ]
  }
 ],
 "metadata": {
  "kernelspec": {
   "display_name": "sc",
   "language": "python",
   "name": "python3"
  },
  "language_info": {
   "codemirror_mode": {
    "name": "ipython",
    "version": 3
   },
   "file_extension": ".py",
   "mimetype": "text/x-python",
   "name": "python",
   "nbconvert_exporter": "python",
   "pygments_lexer": "ipython3",
   "version": "3.10.8"
  }
 },
 "nbformat": 4,
 "nbformat_minor": 2
}
