{
 "cells": [
  {
   "cell_type": "code",
   "execution_count": 92,
   "metadata": {},
   "outputs": [
    {
     "name": "stdout",
     "output_type": "stream",
     "text": [
      "The autoreload extension is already loaded. To reload it, use:\n",
      "  %reload_ext autoreload\n"
     ]
    }
   ],
   "source": [
    "import sys, glob\n",
    "\n",
    "import numpy as np\n",
    "import pandas as pd\n",
    "import matplotlib as mpl\n",
    "import matplotlib.pyplot as plt\n",
    "import seaborn as sns\n",
    "import matplotlib.gridspec as gs\n",
    "from itertools import permutations, combinations\n",
    "import scipy\n",
    "donors = [f'TBd{k}' for k in range(1,7)]\n",
    "TARGET_LOCUS='IGH'\n",
    "\n",
    "######################## PATH CONFIG ################################\n",
    "\n",
    "full_df_loc = '../../data/vdj/integrated_cell_calls_ambient_annotated.tsv.gz'\n",
    "ASC_subtype_df_loc = '../../data/vdj/ASC_subtypes.tab'\n",
    "sample_relationships_df_loc = '../../snakemake_workflow/samplesheets/sample_relationships.tsv'\n",
    "FIGURE_OUTDIR = '../figures/paper figures'\n",
    "######################## ############ ################################\n",
    "from tb_colormaps import *\n",
    "plt.style.use('./bursa.mplstyle')\n",
    "\n",
    "pd.set_option(\"display.max_rows\", 50)\n",
    "pd.set_option(\"display.max_columns\", 20)\n",
    "pd.set_option(\"display.width\", 100)\n",
    "%load_ext autoreload\n",
    "%autoreload 2\n"
   ]
  },
  {
   "cell_type": "code",
   "execution_count": 93,
   "metadata": {},
   "outputs": [],
   "source": [
    "df = pd.read_table(full_df_loc, low_memory=False, usecols = ['sample_uid_vdj',\n",
    "                                                             'sample_uid',\n",
    "                                                             'sample_uid_gex',\n",
    "                                                             'cb',\n",
    "                                                             'c_call',\n",
    "                                                             'vdj_sequence',\n",
    "                                                             'v_identity',\n",
    "                                                             'v_mismatch',\n",
    "                                                             'n_umis',\n",
    "                                                             'lineage_id',\n",
    "                                                             'donor', \n",
    "                                                             'tissue',\n",
    "                                                             'cycling',\n",
    "                                                             'correlation_cycling',\n",
    "                                                             'probable_hq_single_b_cell',\n",
    "                                                             'multiplet_status',\n",
    "                                                             'probable_hq_single_b_cell',\n",
    "                                                             'is_ambient_source',\n",
    "                                                             'vdj_is_from_ambient',\n",
    "                                                             'Immune_All_Low_predicted_labels'])\n",
    "df = df[(df.vdj_sequence.notna()) & (df.lineage_id.notna())]\n",
    "df['donor_tissue'] = df['donor'] + \"_\" + df['tissue']\n",
    "\n",
    "celltypist_simpler = {\n",
    "    \"Proliferative germinal center B cells\": \"GC B cells\",\n",
    "    \"Germinal center B cells\": \"GC B cells\", \n",
    "    \"Age-associated B cells\" : \"ABCs\"\n",
    "}\n",
    "\n",
    "ASC_subtype_df = pd.read_table(ASC_subtype_df_loc)\n",
    "\n",
    "ASC_subtype_df.columns=['barcode','subtype','sample_uid_gex']\n",
    "ASC_subtype_df['cb'] = ASC_subtype_df.barcode.str.split(\"-\").map(lambda x: x[0])\n",
    "ASC_subtype_df['cb_suid'] = ASC_subtype_df['cb'] + \"_\" + ASC_subtype_df['sample_uid_gex']\n",
    "ASC_subtype_dict = ASC_subtype_df.set_index('cb_suid')['subtype'].to_dict()\n",
    "df['cb_suid'] = df['cb'] + \"_\" + df['sample_uid_gex']\n",
    "df['ASC_subtype'] = df.cb_suid.map(ASC_subtype_dict)\n",
    "df['celltype'] = df['Immune_All_Low_predicted_labels'].copy()\n",
    "df['celltype'] = df.celltype.map(lambda x: celltypist_simpler.get(x,x))\n",
    "df.loc[df.ASC_subtype.notna(), 'celltype'] = df['ASC_subtype']\n",
    "\n",
    "\n",
    "df_clean = df[(df.probable_hq_single_b_cell==True) & (df.multiplet_status==1) & ~(df.vdj_is_from_ambient == True).astype(bool)].copy()\n",
    "naive = (df_clean.Immune_All_Low_predicted_labels == 'Naive B cells')\n",
    "unswitched = df_clean.c_call.isin(['IGHM','IGHD'])\n",
    "unhypermutated = df_clean.v_mismatch < 1\n",
    "# print(df_clean.celltype.value_counts())\n",
    "# df_clean.loc[naive & (df_clean.v_mismatch > 0), 'celltype'] = 'Memory B cells'\n",
    "# print(df_clean.celltype.value_counts())\n",
    "\n",
    "permitted = (naive & unswitched) | ~(naive.astype(bool))\n",
    "df_clean = df_clean[permitted]\n",
    "df_clean = df_clean[~df_clean.celltype.str.startswith('Plasma')]\n"
   ]
  },
  {
   "cell_type": "code",
   "execution_count": 94,
   "metadata": {},
   "outputs": [],
   "source": [
    "lineage_sizes = df.groupby(['donor', 'lineage_id'])['vdj_sequence'].nunique()\n",
    "df_clean['lineage_size'] = df_clean.apply(lambda x: lineage_sizes[(x.donor, x.lineage_id)],axis=1)\n",
    "df_clean['is_naive_for_lineage_designation'] = (df_clean['celltype'] == 'Naive B cells') & (df_clean.v_mismatch < 1)\n",
    "naive_lineage = df_clean.groupby(['donor', 'lineage_id'])['is_naive_for_lineage_designation'].sum() > 1\n",
    "df_clean['naive_lineage'] = df_clean.apply(lambda x: naive_lineage[(x.donor, x.lineage_id)],axis=1)"
   ]
  },
  {
   "attachments": {},
   "cell_type": "markdown",
   "metadata": {},
   "source": [
    "# Naively infer  differentiation rate from v_mismatch distribution among all observed cells"
   ]
  },
  {
   "cell_type": "code",
   "execution_count": 95,
   "metadata": {},
   "outputs": [],
   "source": [
    "celltype_counts = df_clean.celltype.value_counts()\n",
    "common_celltype = df_clean.celltype.map(celltype_counts) > 100\n",
    "df_clean = df_clean[common_celltype]\n",
    "celltype_counts = df_clean.celltype.value_counts()\n",
    "df_hm_clean = df_clean[df_clean.v_mismatch>0]\n",
    "df_hm_clean = df_hm_clean[~df_hm_clean.celltype.isin(['ABCs', 'GC B cells', 'Naive B cells'])]\n",
    "\n"
   ]
  },
  {
   "cell_type": "code",
   "execution_count": 96,
   "metadata": {},
   "outputs": [
    {
     "name": "stdout",
     "output_type": "stream",
     "text": [
      "['ASC-3' 'ASC-1' 'ASC-4' 'ASC-2']\n",
      "ASC-3\n"
     ]
    },
    {
     "name": "stderr",
     "output_type": "stream",
     "text": [
      "/var/folders/dz/swf8xvz50dv721hmb0b_nps00000gn/T/ipykernel_5304/472012266.py:32: RuntimeWarning: divide by zero encountered in log\n",
      "  ps = np.log(ps)\n"
     ]
    },
    {
     "name": "stdout",
     "output_type": "stream",
     "text": [
      "ASC-1\n",
      "ASC-4\n",
      "ASC-2\n",
      "Memory B cells\n"
     ]
    }
   ],
   "source": [
    "rate_dict = {}\n",
    "\n",
    "terminal_fates = df_hm_clean.celltype[df_hm_clean.celltype.str.startswith('ASC')].unique()\n",
    "print(terminal_fates)\n",
    "for celltype in df_hm_clean.celltype.unique():\n",
    "    if 'Naive' in celltype:\n",
    "        continue\n",
    "    else:\n",
    "        print(celltype)\n",
    "\n",
    "    is_terminal = df_hm_clean.celltype.isin(terminal_fates)\n",
    "\n",
    "    if celltype in terminal_fates:\n",
    "        relevant_df = df_hm_clean[df_hm_clean.v_mismatch>20]\n",
    "    else:\n",
    "        relevant_df = df_hm_clean[(~(is_terminal).astype(bool)) & (df_hm_clean.v_mismatch>20)]\n",
    "    n = relevant_df.shape[0]\n",
    "\n",
    "    differentiated = relevant_df.celltype == celltype\n",
    "    not_differentiated = ~(differentiated.astype(bool))\n",
    "\n",
    "    n_theta = 1000\n",
    "    thetas = np.logspace(-5,-0.0001,n_theta).T\n",
    "    thetas = thetas.repeat(n).reshape((n_theta,n)).T\n",
    "\n",
    "    ms = relevant_df.v_mismatch.values.repeat(n_theta).reshape((n,n_theta))\n",
    "    ps = np.exp(np.multiply(np.log(1 - thetas), ms-1))\n",
    "\n",
    "    ps[differentiated,:] = ps[differentiated,:]*thetas[differentiated,:]\n",
    "    ps[not_differentiated,:] = ps[not_differentiated,:] * (1 - thetas[not_differentiated,:])\n",
    "\n",
    "    ps = np.log(ps)\n",
    "    total_log_prob = ps.sum(axis=0)\n",
    "    best_theta_pos = np.argmax(total_log_prob)\n",
    "    best_theta = thetas[0,best_theta_pos]\n",
    "    best_llh = total_log_prob[best_theta_pos]\n",
    "    CI = thetas[0,total_log_prob - best_llh > -1.92]\n",
    "    rate_dict.update({celltype: (best_theta, (CI[0], CI[-1]))})\n",
    "\n",
    "\n"
   ]
  },
  {
   "cell_type": "code",
   "execution_count": 97,
   "metadata": {},
   "outputs": [
    {
     "data": {
      "text/html": [
       "<div>\n",
       "<style scoped>\n",
       "    .dataframe tbody tr th:only-of-type {\n",
       "        vertical-align: middle;\n",
       "    }\n",
       "\n",
       "    .dataframe tbody tr th {\n",
       "        vertical-align: top;\n",
       "    }\n",
       "\n",
       "    .dataframe thead th {\n",
       "        text-align: right;\n",
       "    }\n",
       "</style>\n",
       "<table border=\"1\" class=\"dataframe\">\n",
       "  <thead>\n",
       "    <tr style=\"text-align: right;\">\n",
       "      <th></th>\n",
       "      <th>theta_hat</th>\n",
       "      <th>theta_CI</th>\n",
       "      <th>theta_CI_lower</th>\n",
       "      <th>theta_CI_upper</th>\n",
       "      <th>relative_rate</th>\n",
       "    </tr>\n",
       "  </thead>\n",
       "  <tbody>\n",
       "    <tr>\n",
       "      <th>ASC-3</th>\n",
       "      <td>0.005466</td>\n",
       "      <td>(0.005341622261477949, 0.00559361785359565)</td>\n",
       "      <td>0.005342</td>\n",
       "      <td>0.005594</td>\n",
       "      <td>0.11453</td>\n",
       "    </tr>\n",
       "    <tr>\n",
       "      <th>ASC-1</th>\n",
       "      <td>0.005101</td>\n",
       "      <td>(0.004984754151600772, 0.005219914185857153)</td>\n",
       "      <td>0.004985</td>\n",
       "      <td>0.005220</td>\n",
       "      <td>0.106878</td>\n",
       "    </tr>\n",
       "    <tr>\n",
       "      <th>ASC-4</th>\n",
       "      <td>0.000083</td>\n",
       "      <td>(6.468366133305741e-05, 0.00010495438801012244)</td>\n",
       "      <td>0.000065</td>\n",
       "      <td>0.000105</td>\n",
       "      <td>0.001746</td>\n",
       "    </tr>\n",
       "    <tr>\n",
       "      <th>ASC-2</th>\n",
       "      <td>0.001309</td>\n",
       "      <td>(0.0012360904476056251, 0.0013870729400296468)</td>\n",
       "      <td>0.001236</td>\n",
       "      <td>0.001387</td>\n",
       "      <td>0.027435</td>\n",
       "    </tr>\n",
       "    <tr>\n",
       "      <th>Memory B cells</th>\n",
       "      <td>0.035767</td>\n",
       "      <td>(0.03535717658830565, 0.0361815682868525)</td>\n",
       "      <td>0.035357</td>\n",
       "      <td>0.036182</td>\n",
       "      <td>0.74941</td>\n",
       "    </tr>\n",
       "  </tbody>\n",
       "</table>\n",
       "</div>"
      ],
      "text/plain": [
       "               theta_hat                                         theta_CI  theta_CI_lower  \\\n",
       "ASC-3           0.005466      (0.005341622261477949, 0.00559361785359565)        0.005342   \n",
       "ASC-1           0.005101     (0.004984754151600772, 0.005219914185857153)        0.004985   \n",
       "ASC-4           0.000083  (6.468366133305741e-05, 0.00010495438801012244)        0.000065   \n",
       "ASC-2           0.001309   (0.0012360904476056251, 0.0013870729400296468)        0.001236   \n",
       "Memory B cells  0.035767        (0.03535717658830565, 0.0361815682868525)        0.035357   \n",
       "\n",
       "                theta_CI_upper relative_rate  \n",
       "ASC-3                 0.005594       0.11453  \n",
       "ASC-1                 0.005220      0.106878  \n",
       "ASC-4                 0.000105      0.001746  \n",
       "ASC-2                 0.001387      0.027435  \n",
       "Memory B cells        0.036182       0.74941  "
      ]
     },
     "execution_count": 97,
     "metadata": {},
     "output_type": "execute_result"
    }
   ],
   "source": [
    "rate_df = pd.DataFrame(rate_dict).T\n",
    "rate_df.columns = ['theta_hat', 'theta_CI']\n",
    "rate_df['theta_CI_lower'] = rate_df['theta_CI'].map(lambda x: x[0])\n",
    "rate_df['theta_CI_upper'] = rate_df['theta_CI'].map(lambda x: x[1])\n",
    "total_rate = rate_df['theta_hat'].sum()\n",
    "rate_df['relative_rate'] = rate_df['theta_hat']/total_rate\n",
    "rate_df"
   ]
  },
  {
   "cell_type": "code",
   "execution_count": 98,
   "metadata": {},
   "outputs": [],
   "source": [
    "all_cell_v_mismatch = df_clean.v_mismatch.values\n",
    "all_v_mismatch = df_hm_clean.v_mismatch.values"
   ]
  },
  {
   "cell_type": "code",
   "execution_count": 99,
   "metadata": {},
   "outputs": [],
   "source": [
    "## Now fit to tail of distribution"
   ]
  },
  {
   "cell_type": "code",
   "execution_count": 100,
   "metadata": {},
   "outputs": [],
   "source": [
    "from sklearn.linear_model import LinearRegression\n"
   ]
  },
  {
   "cell_type": "code",
   "execution_count": 101,
   "metadata": {},
   "outputs": [
    {
     "name": "stderr",
     "output_type": "stream",
     "text": [
      "/var/folders/dz/swf8xvz50dv721hmb0b_nps00000gn/T/ipykernel_5304/3169119765.py:20: RuntimeWarning: invalid value encountered in log\n",
      "  log_data_ccdf = np.log(data_ccdf)\n",
      "/var/folders/dz/swf8xvz50dv721hmb0b_nps00000gn/T/ipykernel_5304/3169119765.py:20: RuntimeWarning: divide by zero encountered in log\n",
      "  log_data_ccdf = np.log(data_ccdf)\n"
     ]
    },
    {
     "name": "stdout",
     "output_type": "stream",
     "text": [
      "ASC-1 0.02951111401690265 -1.9121554627864534\n",
      "ASC-2 0.029340991601123245 -1.6440467214989671\n",
      "ASC-3 0.033148678908442086 -1.6399998912736105\n",
      "ASC-4 0.029474461946751518 -1.3075514063483127\n",
      "Memory B cells 0.04098848033710778 -1.3842362794066778\n",
      "../figures/paper figures/exponential_model.pdf\n"
     ]
    },
    {
     "data": {
      "image/png": "[encoded data removed]",
      "text/plain": [
       "<Figure size 450x300 with 1 Axes>"
      ]
     },
     "metadata": {
      "needs_background": "light"
     },
     "output_type": "display_data"
    }
   ],
   "source": [
    "fig, ax = plt.subplots(1,1, figsize=(3,2))\n",
    "V=0.3\n",
    "parameter_dict = {'state':[],'slope':[], 'rate':[], 'offset':[]}\n",
    "\n",
    "bins = np.arange(0,max(all_v_mismatch+2))-0.5\n",
    "bin_centers = (bins[1:] + bins[:-1])/2\n",
    "\n",
    "p_celltype = pd.DataFrame(index=bin_centers)\n",
    "\n",
    "fractional_excess_dict = {}\n",
    "for ct in sorted(df_hm_clean.celltype.unique()):\n",
    "\n",
    "\n",
    "    data_distribution = df_hm_clean[(df_hm_clean.celltype==ct)].v_mismatch.values\n",
    "    data_distribution, bins = np.histogram(data_distribution, bins = np.arange(0,max(all_v_mismatch+2))-0.5)\n",
    "    data_distribution = data_distribution/data_distribution.sum()\n",
    "    norm20 = data_distribution[:20].sum()\n",
    "    data_distribution  = data_distribution\n",
    "    data_ccdf = 1 - data_distribution.cumsum()\n",
    "    log_data_ccdf = np.log(data_ccdf)\n",
    "\n",
    "    total_cells = len(df_hm_clean[df_hm_clean.celltype==ct].v_mismatch.values)\n",
    "    if ct == 'Naive B cells':\n",
    "        begin = 2\n",
    "    else:\n",
    "        begin = 20\n",
    "    cutoff = np.argwhere(log_data_ccdf < np.log(20/total_cells))[0][0]\n",
    "    \n",
    "    \n",
    "    X=bin_centers[begin:cutoff].reshape(-1, 1)\n",
    "    Y = -log_data_ccdf[begin:cutoff].reshape(-1, 1)\n",
    "    reg = LinearRegression().fit(X,Y)\n",
    "    # print(reg.score(X, Y))\n",
    "    b = reg.coef_[0][0]\n",
    "    a = reg.intercept_[0]\n",
    "    print(ct, 1 - np.exp(-V*b), a)\n",
    "    parameter_dict['state'].append(ct)\n",
    "    parameter_dict['slope'].append(b)\n",
    "    parameter_dict['offset'].append(a)\n",
    "    parameter_dict['rate'].append( 1 - np.exp(-V*b))\n",
    "    \n",
    "    ax.plot(bin_centers[:cutoff], (-log_data_ccdf[:cutoff]-a)/b, color=bcelltype_colors_alt[ct], label=ct)\n",
    "    \n",
    "    observed = data_distribution[:cutoff]\n",
    "    model = np.exp(-b*bin_centers[:cutoff]-a)*b\n",
    "\n",
    "    # observed = observed[:-1] + observed[1:]\n",
    "    # model = model[1:] + model[:-1]\n",
    "    fractional_excess_dict[ct] = observed/model\n",
    "\n",
    "    p_celltype[ct] = total_cells* b * np.exp(-b*bin_centers-a)\n",
    "line1, = ax.plot(X,X, color='k', alpha=0.5, label='exponential model')\n",
    "line1.set_dashes((3,2))\n",
    "# fig.tight_layout()\n",
    "\n",
    "ax.legend(loc='upper left', bbox_to_anchor=(1,1), frameon=False)\n",
    "sns.despine(fig)\n",
    "ax.set_xlabel('Number of hypermutations $m$ in templated IGHV gene', fontsize=7)\n",
    "ax.set_ylabel(r'$-(\\log P_i(m)+b_i)/k_i$')\n",
    "fig.savefig(f'{FIGURE_OUTDIR}/exponential_model_SI.pdf', bbox_inches='tight')\n",
    "print(f'{FIGURE_OUTDIR}/exponential_model.pdf')\n"
   ]
  },
  {
   "cell_type": "code",
   "execution_count": 102,
   "metadata": {},
   "outputs": [],
   "source": [
    "max_len = max(len(v) for k, v in fractional_excess_dict.items())\n",
    "for k, v in fractional_excess_dict.items():\n",
    "    n_pad = max_len - len(v)\n",
    "    fractional_excess_dict[k] = np.pad(v, (0,n_pad), constant_values=(0,np.nan))\n",
    "fractional_excess_df = pd.DataFrame(fractional_excess_dict)\n",
    "fractional_excess_df['bin_center'] = (0.5*(bin_centers[:-1] + bin_centers[1:]))[:max_len]\n",
    "fractional_excess_df = fractional_excess_df.set_index('bin_center')\n",
    "mean_fractional_excess = fractional_excess_df.mean(axis=1)"
   ]
  },
  {
   "cell_type": "code",
   "execution_count": 130,
   "metadata": {},
   "outputs": [
    {
     "name": "stderr",
     "output_type": "stream",
     "text": [
      "/var/folders/dz/swf8xvz50dv721hmb0b_nps00000gn/T/ipykernel_5304/2213214130.py:19: RuntimeWarning: invalid value encountered in log\n",
      "  log_data_ccdf = np.log(data_ccdf)\n",
      "/var/folders/dz/swf8xvz50dv721hmb0b_nps00000gn/T/ipykernel_5304/2213214130.py:19: RuntimeWarning: divide by zero encountered in log\n",
      "  log_data_ccdf = np.log(data_ccdf)\n"
     ]
    },
    {
     "name": "stdout",
     "output_type": "stream",
     "text": [
      "ASC-1 20 73\n",
      "ASC-1 0.02951111401690265 -1.9121554627864534\n",
      "ASC-2 20 62\n",
      "ASC-2 0.029340991601123245 -1.6440467214989671\n",
      "ASC-3 20 71\n",
      "ASC-3 0.033148678908442086 -1.6399998912736105\n",
      "ASC-4 20 32\n",
      "ASC-4 0.029474461946751518 -1.3075514063483127\n",
      "Memory B cells 20 68\n",
      "Memory B cells 0.04098848033710778 -1.3842362794066778\n",
      "../figures/paper figures/exponential_model.pdf\n"
     ]
    },
    {
     "data": {
      "text/html": [
       "<div>\n",
       "<style scoped>\n",
       "    .dataframe tbody tr th:only-of-type {\n",
       "        vertical-align: middle;\n",
       "    }\n",
       "\n",
       "    .dataframe tbody tr th {\n",
       "        vertical-align: top;\n",
       "    }\n",
       "\n",
       "    .dataframe thead th {\n",
       "        text-align: right;\n",
       "    }\n",
       "</style>\n",
       "<table border=\"1\" class=\"dataframe\">\n",
       "  <thead>\n",
       "    <tr style=\"text-align: right;\">\n",
       "      <th></th>\n",
       "      <th>ASC-1</th>\n",
       "      <th>ASC-2</th>\n",
       "      <th>ASC-3</th>\n",
       "      <th>ASC-4</th>\n",
       "      <th>Memory B cells</th>\n",
       "    </tr>\n",
       "  </thead>\n",
       "  <tbody>\n",
       "    <tr>\n",
       "      <th>0.0</th>\n",
       "      <td>3891.692105</td>\n",
       "      <td>820.558361</td>\n",
       "      <td>4662.033929</td>\n",
       "      <td>45.718187</td>\n",
       "      <td>38158.107278</td>\n",
       "    </tr>\n",
       "    <tr>\n",
       "      <th>1.0</th>\n",
       "      <td>3521.873024</td>\n",
       "      <td>743.016469</td>\n",
       "      <td>4166.529040</td>\n",
       "      <td>41.378895</td>\n",
       "      <td>33189.412983</td>\n",
       "    </tr>\n",
       "    <tr>\n",
       "      <th>2.0</th>\n",
       "      <td>3187.197050</td>\n",
       "      <td>672.802203</td>\n",
       "      <td>3723.688953</td>\n",
       "      <td>37.451462</td>\n",
       "      <td>28867.708928</td>\n",
       "    </tr>\n",
       "    <tr>\n",
       "      <th>3.0</th>\n",
       "      <td>2884.324610</td>\n",
       "      <td>609.223110</td>\n",
       "      <td>3327.916183</td>\n",
       "      <td>33.896798</td>\n",
       "      <td>25108.748359</td>\n",
       "    </tr>\n",
       "    <tr>\n",
       "      <th>4.0</th>\n",
       "      <td>2610.233483</td>\n",
       "      <td>551.652174</td>\n",
       "      <td>2974.208174</td>\n",
       "      <td>30.679520</td>\n",
       "      <td>21839.254571</td>\n",
       "    </tr>\n",
       "    <tr>\n",
       "      <th>...</th>\n",
       "      <td>...</td>\n",
       "      <td>...</td>\n",
       "      <td>...</td>\n",
       "      <td>...</td>\n",
       "      <td>...</td>\n",
       "    </tr>\n",
       "    <tr>\n",
       "      <th>92.0</th>\n",
       "      <td>0.398638</td>\n",
       "      <td>0.088694</td>\n",
       "      <td>0.150967</td>\n",
       "      <td>0.004738</td>\n",
       "      <td>0.101756</td>\n",
       "    </tr>\n",
       "    <tr>\n",
       "      <th>93.0</th>\n",
       "      <td>0.360756</td>\n",
       "      <td>0.080313</td>\n",
       "      <td>0.134921</td>\n",
       "      <td>0.004288</td>\n",
       "      <td>0.088506</td>\n",
       "    </tr>\n",
       "    <tr>\n",
       "      <th>94.0</th>\n",
       "      <td>0.326474</td>\n",
       "      <td>0.072723</td>\n",
       "      <td>0.120581</td>\n",
       "      <td>0.003881</td>\n",
       "      <td>0.076981</td>\n",
       "    </tr>\n",
       "    <tr>\n",
       "      <th>95.0</th>\n",
       "      <td>0.295450</td>\n",
       "      <td>0.065851</td>\n",
       "      <td>0.107765</td>\n",
       "      <td>0.003513</td>\n",
       "      <td>0.066957</td>\n",
       "    </tr>\n",
       "    <tr>\n",
       "      <th>96.0</th>\n",
       "      <td>0.267374</td>\n",
       "      <td>0.059628</td>\n",
       "      <td>0.096311</td>\n",
       "      <td>0.003179</td>\n",
       "      <td>0.058239</td>\n",
       "    </tr>\n",
       "  </tbody>\n",
       "</table>\n",
       "<p>97 rows × 5 columns</p>\n",
       "</div>"
      ],
      "text/plain": [
       "            ASC-1       ASC-2        ASC-3      ASC-4  Memory B cells\n",
       "0.0   3891.692105  820.558361  4662.033929  45.718187    38158.107278\n",
       "1.0   3521.873024  743.016469  4166.529040  41.378895    33189.412983\n",
       "2.0   3187.197050  672.802203  3723.688953  37.451462    28867.708928\n",
       "3.0   2884.324610  609.223110  3327.916183  33.896798    25108.748359\n",
       "4.0   2610.233483  551.652174  2974.208174  30.679520    21839.254571\n",
       "...           ...         ...          ...        ...             ...\n",
       "92.0     0.398638    0.088694     0.150967   0.004738        0.101756\n",
       "93.0     0.360756    0.080313     0.134921   0.004288        0.088506\n",
       "94.0     0.326474    0.072723     0.120581   0.003881        0.076981\n",
       "95.0     0.295450    0.065851     0.107765   0.003513        0.066957\n",
       "96.0     0.267374    0.059628     0.096311   0.003179        0.058239\n",
       "\n",
       "[97 rows x 5 columns]"
      ]
     },
     "execution_count": 130,
     "metadata": {},
     "output_type": "execute_result"
    },
    {
     "data": {
      "image/png": "[encoded data removed]",
      "text/plain": [
       "<Figure size 262.5x270 with 1 Axes>"
      ]
     },
     "metadata": {
      "needs_background": "light"
     },
     "output_type": "display_data"
    }
   ],
   "source": [
    "fig, ax = plt.subplots(1,1, figsize=(1.75,1.8), sharex=True)\n",
    "V=0.3\n",
    "parameter_dict = {'state':[],'slope':[], 'rate':[], 'offset':[]}\n",
    "\n",
    "bins = np.arange(0,max(all_v_mismatch+2))-0.5\n",
    "bin_centers = (bins[1:] + bins[:-1])/2\n",
    "\n",
    "p_celltype = pd.DataFrame(index=bin_centers)\n",
    "\n",
    "for ct in sorted(df_hm_clean.celltype.unique()):\n",
    "\n",
    "\n",
    "    data_distribution = df_hm_clean[(df_hm_clean.celltype==ct)].v_mismatch.values\n",
    "    data_distribution, bins = np.histogram(data_distribution, bins = np.arange(0,max(all_v_mismatch+2))-0.5)\n",
    "    data_distribution = data_distribution/data_distribution.sum()\n",
    "    norm20 = data_distribution[:20].sum()\n",
    "    data_distribution  = data_distribution\n",
    "    data_ccdf = 1 - data_distribution.cumsum()\n",
    "    log_data_ccdf = np.log(data_ccdf)\n",
    "\n",
    "    total_cells = len(df_hm_clean[df_hm_clean.celltype==ct].v_mismatch.values)\n",
    "    if ct == 'Naive B cells':\n",
    "        begin = 2\n",
    "    else:\n",
    "        begin = 20\n",
    "    cutoff = np.argwhere(log_data_ccdf < np.log(20/total_cells))[0][0]\n",
    "    print(ct, begin, cutoff)\n",
    "    \n",
    "    \n",
    "    X=bin_centers[begin:cutoff].reshape(-1, 1)\n",
    "    Y = -log_data_ccdf[begin:cutoff].reshape(-1, 1)\n",
    "    reg = LinearRegression().fit(X,Y)\n",
    "    # print(reg.score(X, Y))\n",
    "    b = reg.coef_[0][0]\n",
    "    a = reg.intercept_[0]\n",
    "    print(ct, 1 - np.exp(-V*b), a)\n",
    "    parameter_dict['state'].append(ct)\n",
    "    parameter_dict['slope'].append(b)\n",
    "    parameter_dict['offset'].append(a)\n",
    "    parameter_dict['rate'].append( 1 - np.exp(-V*b))\n",
    "    \n",
    "\n",
    "    ax.set_ylabel('Fractional excess of cells\\nrelative to model')\n",
    "    # ax[1].set_ylabel('Fractional excess \\nrelative to mean rate')\n",
    "\n",
    "    if ct == \"Naive B cells\":\n",
    "        pass\n",
    "    else:\n",
    "        pass\n",
    "    xs = (bin_centers[1:] + bin_centers[:-1])/2.\n",
    "    xs = xs[:cutoff-1]\n",
    "    \n",
    "    ax.plot(xs, fractional_excess_df[ct][:cutoff-1], color=bcelltype_colors_alt[ct], label=ct)\n",
    "    # ax[1].plot(xs, (fractional_excess_df[ct]/mean_fractional_excess)[:cutoff-1], color=bcelltype_colors_alt[ct])\n",
    "\n",
    "    p_celltype[ct] = total_cells* b * np.exp(-b*bin_centers-a)\n",
    "line1, = ax.plot(bin_centers,np.ones(len(bin_centers)), color='k', alpha=0.5, label='model')\n",
    "line1.set_dashes((3,2))\n",
    "fig.tight_layout()\n",
    "\n",
    "# ax[1].legend(loc='upper left', bbox_to_anchor=(1,1), frameon=False)\n",
    "sns.despine(fig)\n",
    "ax.set_yscale('log')\n",
    "ax.set_xlabel('', fontsize=7)\n",
    "ax.set_xlabel('# IGHV hypermutations', fontsize=7)\n",
    "# ax.set_ylabel('Fraction more hypermutated\\ncells in celltype')\n",
    "line1= ax.axhline(y=1, color='0.5')\n",
    "line1.set_dashes((3,2))\n",
    "# ax[1].set_ylim([0.1,10])\n",
    "ax.set_xlim([-5,80])\n",
    "ax.set_xticks([0,20,40,60,80])\n",
    "# fig.tight_layout()\n",
    "ax.set_title('Data', fontsize=7)\n",
    "fig.savefig(f'{FIGURE_OUTDIR}/exponential_model.pdf', bbox_inches='tight')\n",
    "print(f'{FIGURE_OUTDIR}/exponential_model.pdf')\n",
    "\n",
    "\n",
    "rate_dict = pd.DataFrame(parameter_dict).set_index('state')\n",
    "p_celltype"
   ]
  },
  {
   "cell_type": "code",
   "execution_count": 104,
   "metadata": {},
   "outputs": [
    {
     "data": {
      "image/png": "[encoded data removed]",
      "text/plain": [
       "<Figure size 337.5x300 with 2 Axes>"
      ]
     },
     "metadata": {
      "needs_background": "light"
     },
     "output_type": "display_data"
    }
   ],
   "source": [
    "p_celltype_norm = (p_celltype.T/p_celltype.sum(axis=1)).T#.reset_index()\n",
    "\n",
    "sorted_columns = sorted(p_celltype_norm.columns)[::-1]\n",
    "p_celltype_norm = p_celltype_norm[sorted_columns]\n",
    "# fig, ax = plt.subplots(1,2,sharex=True, sharey=True, figsize=(2.25,2.))\n",
    "fig, ax = plt.subplots(1,2,sharex=True, sharey=True, figsize=(5,2.))\n",
    "\n",
    "\n",
    "ax[1].stackplot(p_celltype_norm.index, p_celltype_norm.T,colors=[bcelltype_colors_alt[x] for x in p_celltype_norm.columns], labels = p_celltype_norm.columns, alpha=0.75)\n",
    "# ax[1].legend(loc='upper left', bbox_to_anchor=(1,1), frameon=False)\n",
    "g = sns.kdeplot(data=df_hm_clean.sort_values('celltype'), x='v_mismatch', hue='celltype', palette=bcelltype_colors_alt, multiple='fill', lw=0, ax = ax[0], legend=False)\n",
    "# sns.move_legend(g, loc='upper left', bbox_to_anchor=(1,1), frameon=False)\n",
    "sns.despine(fig)\n",
    "ax[0].set_xlabel('')\n",
    "ax[1].set_xlabel('')\n",
    "ax[0].set_xlim([0,80])\n",
    "ax[0].set_xticks([0,20,40,60,80])\n",
    "ax[0].set_title('Data', fontsize=7)\n",
    "ax[1].set_title('Model', fontsize=7)\n",
    "fig.tight_layout()\n",
    "fig.supxlabel('# IGHV hypermutations', fontsize=7, x = 0.6, y = -0.05)\n",
    "fig.savefig(f'{FIGURE_OUTDIR}/stacked_density_celltype_data_vs_model.pdf', bbox_inches='tight')\n"
   ]
  },
  {
   "cell_type": "code",
   "execution_count": 105,
   "metadata": {},
   "outputs": [
    {
     "data": {
      "image/png": "[encoded data removed]",
      "text/plain": [
       "<Figure size 375x300 with 1 Axes>"
      ]
     },
     "metadata": {
      "needs_background": "light"
     },
     "output_type": "display_data"
    }
   ],
   "source": [
    "fig, ax=plt.subplots(figsize=(2.5,2))\n",
    "\n",
    "sns.ecdfplot(df_hm_clean[(df_hm_clean.lineage_size>2)],x = 'v_mismatch', color='k', complementary=False, lw=1)\n",
    "# ax.set_yscale('log')\n",
    "ax.axvline(x=10, color='0.5', alpha=0.8, linestyle='dashed', lw=0.5)\n",
    "ax.axhline(y=0.2, color='0.5', alpha=0.8, linestyle='dashed', lw=0.5)\n",
    "ax.set_xlabel('Number of hypermutations\\nin templated IGHV gene', fontsize=7)\n",
    "ax.set_ylabel('Proportion smaller')\n",
    "sns.despine(fig)\n",
    "fig.tight_layout()\n",
    "ax.set_ylim([0,1.05])\n",
    "fig.savefig(f'{FIGURE_OUTDIR}/marginal_hm_m_distribution.pdf', bbox_inches='tight')"
   ]
  },
  {
   "cell_type": "code",
   "execution_count": 106,
   "metadata": {},
   "outputs": [
    {
     "name": "stdout",
     "output_type": "stream",
     "text": [
      "False    74460\n",
      "True       465\n",
      "Name: has_naive, dtype: int64\n"
     ]
    },
    {
     "name": "stderr",
     "output_type": "stream",
     "text": [
      "/var/folders/dz/swf8xvz50dv721hmb0b_nps00000gn/T/ipykernel_5304/4015957431.py:27: FutureWarning: The default value of numeric_only in DataFrameGroupBy.median is deprecated. In a future version, numeric_only will default to False. Either specify numeric_only or select only columns which should be valid for the function.\n",
      "  mean_abundance = lineage_composition.groupby(['binned_total', 'has_naive']).median().reset_index()\n",
      "/var/folders/dz/swf8xvz50dv721hmb0b_nps00000gn/T/ipykernel_5304/4015957431.py:28: FutureWarning: The default value of numeric_only in DataFrameGroupBy.median is deprecated. In a future version, numeric_only will default to False. Either specify numeric_only or select only columns which should be valid for the function.\n",
      "  mean_permuted_abundance = lineage_composition_permuted.groupby(['binned_total', 'has_naive']).median().reset_index()\n"
     ]
    },
    {
     "name": "stdout",
     "output_type": "stream",
     "text": [
      "ASC-1\n",
      "ASC-2\n",
      "ASC-3\n",
      "ASC-4\n",
      "Naive B cells\n",
      "Memory B cells\n",
      "ABCs\n"
     ]
    },
    {
     "data": {
      "image/png": "[encoded data removed]",
      "text/plain": [
       "<Figure size 450x300 with 2 Axes>"
      ]
     },
     "metadata": {
      "needs_background": "light"
     },
     "output_type": "display_data"
    }
   ],
   "source": [
    "lineage_composition = df_clean[df_clean.v_mismatch > 0].groupby(['donor','lineage_id','celltype','vdj_sequence']).size().reset_index()\n",
    "lineage_composition = lineage_composition.groupby(['donor','lineage_id','celltype'])['vdj_sequence'].nunique().reset_index()\n",
    "lineage_composition = lineage_composition.pivot(index = ['lineage_id', 'donor'], columns = 'celltype', values='vdj_sequence')\n",
    "lineage_composition['total'] = lineage_composition.sum(axis=1)\n",
    "lineage_composition['binned_total'] = 2**np.round(np.log(lineage_composition.total)/np.log(2))\n",
    "lineage_composition = lineage_composition.reset_index()\n",
    "lineage_composition['has_naive'] = lineage_composition.reset_index().apply(lambda x: naive_lineage[(x.donor, x.lineage_id)], axis=1)\n",
    "print(lineage_composition.has_naive.value_counts())\n",
    "\n",
    "lineage_composition_permuted = df_clean[df_clean.v_mismatch > 0].groupby(['donor','lineage_id','celltype','vdj_sequence']).size().reset_index()\n",
    "lineage_composition_permuted['permuted_celltype'] = np.random.permutation(lineage_composition_permuted['celltype'].values)\n",
    "lineage_composition_permuted = lineage_composition_permuted.groupby(['donor','lineage_id','permuted_celltype'])['vdj_sequence'].nunique().reset_index()\n",
    "\n",
    "lineage_composition_permuted = lineage_composition_permuted.pivot(index = ['lineage_id', 'donor'], columns = 'permuted_celltype', values='vdj_sequence')\n",
    "lineage_composition_permuted['total'] = lineage_composition_permuted.sum(axis=1)\n",
    "lineage_composition_permuted['binned_total'] = 2**np.round(np.log(lineage_composition_permuted.total)/np.log(2))\n",
    "lineage_composition_permuted = lineage_composition_permuted.reset_index()\n",
    "\n",
    "lineage_composition_permuted['has_naive'] = lineage_composition_permuted.reset_index().apply(lambda x: naive_lineage[(x.donor, x.lineage_id)], axis=1)\n",
    "fig, axes = plt.subplots(1,2,sharex=True, sharey=True, figsize=(3,2))\n",
    "ax_naive_lineage = axes[0]\n",
    "ax_nonnaive = axes[1]\n",
    "ax_naive_lineage.set_yscale('log')\n",
    "ax_naive_lineage.set_xlim([0,33])\n",
    "\n",
    "\n",
    "mean_abundance = lineage_composition.groupby(['binned_total', 'has_naive']).median().reset_index()\n",
    "mean_permuted_abundance = lineage_composition_permuted.groupby(['binned_total', 'has_naive']).median().reset_index()\n",
    "axes[0].set_title('Lineage with\\nNaive B cell')\n",
    "axes[1].set_title('Lineage without\\nNaive B cell')\n",
    "for col in ['ASC-1','ASC-2','ASC-3','ASC-4','Naive B cells', 'Memory B cells','ABCs']:\n",
    "    if col in bcelltype_colors_alt.keys():\n",
    "        print(col)\n",
    "        mean_abundance[col] = mean_abundance[col]/mean_abundance['binned_total']\n",
    "        ax_naive_lineage.plot(mean_abundance.loc[mean_abundance.has_naive, 'binned_total'], \n",
    "                  mean_abundance.loc[mean_abundance.has_naive, col], 'o-', markersize=2,\n",
    "                  color=bcelltype_colors_alt[col], lw=1.)\n",
    "        ax_nonnaive.plot(mean_abundance.loc[~mean_abundance.has_naive, 'binned_total'], \n",
    "                  mean_abundance.loc[~mean_abundance.has_naive, col], 'o-', markersize=2,\n",
    "                  color=bcelltype_colors_alt[col], lw=1.)\n",
    "        \n",
    "\n",
    "        mean_permuted_abundance[col] = mean_permuted_abundance[col]/mean_permuted_abundance['binned_total']\n",
    "        line1,  = ax_naive_lineage.plot(mean_permuted_abundance.loc[mean_permuted_abundance.has_naive, 'binned_total'], \n",
    "                  mean_permuted_abundance.loc[mean_permuted_abundance.has_naive, col], 'o-', markersize=2,\n",
    "                  color=bcelltype_colors_alt[col], lw=1.)\n",
    "        line2,  = ax_nonnaive.plot(mean_permuted_abundance.loc[~mean_permuted_abundance.has_naive, 'binned_total'], \n",
    "                  mean_permuted_abundance.loc[~mean_permuted_abundance.has_naive, col], 'o-', markersize=2,\n",
    "                  color=bcelltype_colors_alt[col], lw=1.)\n",
    "        line1.set_dashes((3,2))\n",
    "        line2.set_dashes((3,2))\n",
    "\n",
    "        axes[1].plot([],[],lw=5,color=bcelltype_colors_alt[col], label=col)\n",
    "\n",
    "        # ax_naive_lineage.plot(np.logspace(0,5,base=2), 1/np.logspace(0,5,base=2), color='k')\n",
    "        # if col != 'Naive B cells':\n",
    "            # sns.lineplot(mean_abundance[~mean_abundance.has_naive], x = 'binned_total', y = col, color=bcelltype_colors_alt[col], ax = ax[0], linestyle='dotted')\n",
    "sns.despine(fig)\n",
    "axes[1].plot([],[], lw=1, color='k', label='Data')\n",
    "line1,  = axes[1].plot([],[], lw=1, color='k', label='Permuted')\n",
    "line1.set_dashes((3,2))\n",
    "axes[1].legend(bbox_to_anchor=(1,1), frameon=False, loc='upper left', handlelength=1)\n",
    "fig.supxlabel('Binned total number of hypermutated cells\\nwith sequenced transcriptome in lineage', fontsize=7, y=-0.1)\n",
    "axes[0].set_ylabel('Median fraction of hypermutated\\ncells of given celltype', x=-0.2)\n",
    "lineage_composition.groupby(['binned_total', 'has_naive']).size()\n",
    "# fig.tight_layout()\n",
    "fig.savefig(f'{FIGURE_OUTDIR}/naive_lineage_composition.pdf', bbox_inches='tight')"
   ]
  },
  {
   "cell_type": "code",
   "execution_count": 107,
   "metadata": {},
   "outputs": [
    {
     "name": "stdout",
     "output_type": "stream",
     "text": [
      "1405\n",
      "71083\n"
     ]
    },
    {
     "name": "stderr",
     "output_type": "stream",
     "text": [
      "/var/folders/dz/swf8xvz50dv721hmb0b_nps00000gn/T/ipykernel_5304/417147963.py:10: RuntimeWarning: divide by zero encountered in log\n",
      "  log_data_ccdf = np.log(1- counts_nl.cumsum()/counts_nl.sum())\n",
      "/var/folders/dz/swf8xvz50dv721hmb0b_nps00000gn/T/ipykernel_5304/417147963.py:16: RuntimeWarning: divide by zero encountered in log\n",
      "  log_data_ccdf = np.log(1- counts_nn.cumsum()/counts_nn.sum())\n"
     ]
    },
    {
     "data": {
      "image/png": "[encoded data removed]",
      "text/plain": [
       "<Figure size 150x300 with 1 Axes>"
      ]
     },
     "metadata": {
      "needs_background": "light"
     },
     "output_type": "display_data"
    }
   ],
   "source": [
    "relevant_df = df_clean\n",
    "fig, ax = plt.subplots(figsize=(1,2))\n",
    "for ct, dark_col in [('Memory B cells','g')]:\n",
    "    naive_lineage_memB = relevant_df[(relevant_df.celltype=='Memory B cells') & relevant_df.naive_lineage].v_mismatch\n",
    "    non_naive_lineage_memB = relevant_df[(relevant_df.celltype=='Memory B cells') & ~(relevant_df.naive_lineage.astype(bool))].v_mismatch\n",
    "    \n",
    "    counts_nl, bins = np.histogram(naive_lineage_memB, bins=np.arange(0,80)-0.5)\n",
    "    total_nl_cells = len(naive_lineage_memB)\n",
    "    print(total_nl_cells)\n",
    "    log_data_ccdf = np.log(1- counts_nl.cumsum()/counts_nl.sum())\n",
    "    cutoff_nl = np.argwhere(log_data_ccdf < np.log(20/total_nl_cells))[0][0]\n",
    "\n",
    "    counts_nn, bins = np.histogram(non_naive_lineage_memB, bins=np.arange(0,80)-0.5)\n",
    "    total_nn_cells = len(non_naive_lineage_memB)\n",
    "    print(total_nn_cells)\n",
    "    log_data_ccdf = np.log(1- counts_nn.cumsum()/counts_nn.sum())\n",
    "    cutoff_nn = np.argwhere(log_data_ccdf < np.log(20/total_nn_cells))[0][0]\n",
    "    bin_centers = (bins[1:] + bins[:-1])/2.\n",
    "\n",
    "    ax.plot(bin_centers[:cutoff_nl], (1- counts_nl.cumsum()/counts_nl.sum())[:cutoff_nl], color=bcelltype_colors_alt['Naive B cells'], label='lineage with\\nNaive B cell')\n",
    "    ax.plot(bin_centers[:cutoff_nn], (1- counts_nn.cumsum()/counts_nn.sum())[:cutoff_nn], color='0.5', label='lineage without\\nNaive B cell')\n",
    "ax.legend(loc='upper left', bbox_to_anchor=(0.5,1), frameon=False)\n",
    "ax.set_yscale('log')\n",
    "ax.set_ylabel('Fraction of Memory B cells\\nwith more hypermutations')\n",
    "ax.set_xlabel('Number of hypermutations in\\ntemplated IGHV gene')\n",
    "sns.despine(fig)\n",
    "# fig.tight_layout()\n",
    "fig.savefig(f'{FIGURE_OUTDIR}/naive_lineage_hypermutation.pdf', bbox_inches='tight')"
   ]
  },
  {
   "cell_type": "code",
   "execution_count": 108,
   "metadata": {},
   "outputs": [],
   "source": [
    "all_dist = df_clean.tissue.value_counts(normalize=True)\n",
    "naive_dist = df_clean[df_clean.celltype=='Naive B cells'].tissue.value_counts(normalize=True)\n",
    "hm_naive_dist = df_hm_clean[(df_hm_clean.celltype=='Naive B cells') & (df_hm_clean.v_mismatch < 30)].tissue.value_counts(normalize=True)"
   ]
  },
  {
   "attachments": {},
   "cell_type": "markdown",
   "metadata": {},
   "source": [
    "# calculate marginal celltype distributions for cells with GEX"
   ]
  },
  {
   "cell_type": "code",
   "execution_count": 110,
   "metadata": {},
   "outputs": [],
   "source": [
    "best_fit_model = p_celltype_norm\n",
    "best_fit_model.index = best_fit_model.index.astype(int)\n",
    "best_fit_model = best_fit_model.iloc[1:,:]\n"
   ]
  },
  {
   "cell_type": "code",
   "execution_count": 111,
   "metadata": {},
   "outputs": [
    {
     "data": {
      "text/html": [
       "<div>\n",
       "<style scoped>\n",
       "    .dataframe tbody tr th:only-of-type {\n",
       "        vertical-align: middle;\n",
       "    }\n",
       "\n",
       "    .dataframe tbody tr th {\n",
       "        vertical-align: top;\n",
       "    }\n",
       "\n",
       "    .dataframe thead th {\n",
       "        text-align: right;\n",
       "    }\n",
       "</style>\n",
       "<table border=\"1\" class=\"dataframe\">\n",
       "  <thead>\n",
       "    <tr style=\"text-align: right;\">\n",
       "      <th>celltype</th>\n",
       "      <th>Memory B cells</th>\n",
       "      <th>ASC-4</th>\n",
       "      <th>ASC-3</th>\n",
       "      <th>ASC-2</th>\n",
       "      <th>ASC-1</th>\n",
       "    </tr>\n",
       "    <tr>\n",
       "      <th>v_mismatch</th>\n",
       "      <th></th>\n",
       "      <th></th>\n",
       "      <th></th>\n",
       "      <th></th>\n",
       "      <th></th>\n",
       "    </tr>\n",
       "  </thead>\n",
       "  <tbody>\n",
       "    <tr>\n",
       "      <th>1</th>\n",
       "      <td>0.956555</td>\n",
       "      <td>0.001524</td>\n",
       "      <td>0.030488</td>\n",
       "      <td>0.001524</td>\n",
       "      <td>0.009909</td>\n",
       "    </tr>\n",
       "    <tr>\n",
       "      <th>2</th>\n",
       "      <td>0.950350</td>\n",
       "      <td>0.001752</td>\n",
       "      <td>0.030958</td>\n",
       "      <td>0.005257</td>\n",
       "      <td>0.011682</td>\n",
       "    </tr>\n",
       "    <tr>\n",
       "      <th>3</th>\n",
       "      <td>0.955623</td>\n",
       "      <td>0.000504</td>\n",
       "      <td>0.028744</td>\n",
       "      <td>0.001513</td>\n",
       "      <td>0.013616</td>\n",
       "    </tr>\n",
       "    <tr>\n",
       "      <th>4</th>\n",
       "      <td>0.953909</td>\n",
       "      <td>0.000823</td>\n",
       "      <td>0.027160</td>\n",
       "      <td>0.003704</td>\n",
       "      <td>0.014403</td>\n",
       "    </tr>\n",
       "    <tr>\n",
       "      <th>5</th>\n",
       "      <td>0.954836</td>\n",
       "      <td>0.000376</td>\n",
       "      <td>0.026722</td>\n",
       "      <td>0.004893</td>\n",
       "      <td>0.013173</td>\n",
       "    </tr>\n",
       "    <tr>\n",
       "      <th>...</th>\n",
       "      <td>...</td>\n",
       "      <td>...</td>\n",
       "      <td>...</td>\n",
       "      <td>...</td>\n",
       "      <td>...</td>\n",
       "    </tr>\n",
       "    <tr>\n",
       "      <th>87</th>\n",
       "      <td>1.000000</td>\n",
       "      <td>0.000000</td>\n",
       "      <td>0.000000</td>\n",
       "      <td>0.000000</td>\n",
       "      <td>0.000000</td>\n",
       "    </tr>\n",
       "    <tr>\n",
       "      <th>88</th>\n",
       "      <td>0.000000</td>\n",
       "      <td>0.000000</td>\n",
       "      <td>0.000000</td>\n",
       "      <td>0.000000</td>\n",
       "      <td>1.000000</td>\n",
       "    </tr>\n",
       "    <tr>\n",
       "      <th>89</th>\n",
       "      <td>0.000000</td>\n",
       "      <td>0.000000</td>\n",
       "      <td>0.500000</td>\n",
       "      <td>0.500000</td>\n",
       "      <td>0.000000</td>\n",
       "    </tr>\n",
       "    <tr>\n",
       "      <th>93</th>\n",
       "      <td>0.000000</td>\n",
       "      <td>0.000000</td>\n",
       "      <td>0.000000</td>\n",
       "      <td>0.000000</td>\n",
       "      <td>1.000000</td>\n",
       "    </tr>\n",
       "    <tr>\n",
       "      <th>96</th>\n",
       "      <td>0.500000</td>\n",
       "      <td>0.000000</td>\n",
       "      <td>0.000000</td>\n",
       "      <td>0.500000</td>\n",
       "      <td>0.000000</td>\n",
       "    </tr>\n",
       "  </tbody>\n",
       "</table>\n",
       "<p>90 rows × 5 columns</p>\n",
       "</div>"
      ],
      "text/plain": [
       "celltype    Memory B cells     ASC-4     ASC-3     ASC-2     ASC-1\n",
       "v_mismatch                                                        \n",
       "1                 0.956555  0.001524  0.030488  0.001524  0.009909\n",
       "2                 0.950350  0.001752  0.030958  0.005257  0.011682\n",
       "3                 0.955623  0.000504  0.028744  0.001513  0.013616\n",
       "4                 0.953909  0.000823  0.027160  0.003704  0.014403\n",
       "5                 0.954836  0.000376  0.026722  0.004893  0.013173\n",
       "...                    ...       ...       ...       ...       ...\n",
       "87                1.000000  0.000000  0.000000  0.000000  0.000000\n",
       "88                0.000000  0.000000  0.000000  0.000000  1.000000\n",
       "89                0.000000  0.000000  0.500000  0.500000  0.000000\n",
       "93                0.000000  0.000000  0.000000  0.000000  1.000000\n",
       "96                0.500000  0.000000  0.000000  0.500000  0.000000\n",
       "\n",
       "[90 rows x 5 columns]"
      ]
     },
     "execution_count": 111,
     "metadata": {},
     "output_type": "execute_result"
    }
   ],
   "source": [
    "empirical_distribution = df_hm_clean.groupby(['v_mismatch','celltype'])['vdj_sequence'].nunique().reset_index()\n",
    "empirical_distribution['v_mismatch'] = empirical_distribution['v_mismatch'].astype(int)\n",
    "empirical_distribution = empirical_distribution.pivot(index='v_mismatch', columns='celltype', values='vdj_sequence').fillna(0)\n",
    "empirical_distribution = empirical_distribution[best_fit_model.columns]\n",
    "total = empirical_distribution.sum(axis=1)\n",
    "for col in empirical_distribution.columns:\n",
    "    empirical_distribution[col] = (empirical_distribution[col]/total)\n",
    "empirical_distribution"
   ]
  },
  {
   "cell_type": "code",
   "execution_count": 112,
   "metadata": {},
   "outputs": [],
   "source": [
    "df_hm_clean['lineage_uid'] = df_hm_clean['donor'] + \"_\" + df_hm_clean['lineage_id'].fillna(\"\").astype(str)\n",
    "\n",
    "empirical_prob_df = df_hm_clean.groupby(['vdj_sequence','v_mismatch', 'lineage_uid', 'celltype','cb']).size()\n",
    "lineage_sizes = df_hm_clean.groupby('lineage_uid')['vdj_sequence'].nunique()\n",
    "\n",
    "empirical_prob_df = empirical_prob_df.reset_index()\n",
    "\n",
    "for col in empirical_distribution:\n",
    "    empirical_prob_df[col] = empirical_prob_df.apply(lambda x: empirical_distribution.loc[x.v_mismatch, col], axis=1)"
   ]
  },
  {
   "cell_type": "code",
   "execution_count": 113,
   "metadata": {},
   "outputs": [],
   "source": [
    "def prob_any(l):\n",
    "    probabilities = np.asarray(list(l))\n",
    "    return 1 - np.product(1.-probabilities)\n",
    "\n",
    "def expectation(l):\n",
    "    probabilities = np.asarray(list(l))\n",
    "    return np.sum(probabilities)"
   ]
  },
  {
   "cell_type": "code",
   "execution_count": 114,
   "metadata": {},
   "outputs": [
    {
     "name": "stdout",
     "output_type": "stream",
     "text": [
      "Memory B cells    58147.614163\n",
      "ASC-4               131.029467\n",
      "ASC-3              5733.315747\n",
      "ASC-2              1554.303071\n",
      "ASC-1              5338.164688\n",
      "dtype: float64\n"
     ]
    }
   ],
   "source": [
    "prob_any_in_lineage = empirical_prob_df.groupby(['lineage_uid'])[[col for col in empirical_distribution.columns]].agg(prob_any)\n",
    "expected_cells_model = empirical_prob_df.groupby(['lineage_uid'])[[col for col in empirical_distribution.columns]].agg(expectation)\n",
    "expected_cells_model['lineage_size'] = expected_cells_model.index.map(lineage_sizes)\n",
    "expected_cells_model['lineage_size_binned'] = 2**round(np.log(expected_cells_model.lineage_size)/np.log(2))\n",
    "expected_cells_model = expected_cells_model.groupby('lineage_size_binned').sum()\n",
    "print(prob_any_in_lineage.sum())"
   ]
  },
  {
   "cell_type": "code",
   "execution_count": 115,
   "metadata": {},
   "outputs": [
    {
     "data": {
      "text/plain": [
       "celltype\n",
       "ASC-1              4908\n",
       "ASC-2              1416\n",
       "ASC-3              4350\n",
       "ASC-4               124\n",
       "Memory B cells    58536\n",
       "dtype: int64"
      ]
     },
     "execution_count": 115,
     "metadata": {},
     "output_type": "execute_result"
    }
   ],
   "source": [
    "empirical_count_any = empirical_prob_df.groupby(['lineage_uid','celltype']).size()\n",
    "empirical_count_any = empirical_count_any.reset_index().pivot(index=['lineage_uid'], columns='celltype', values=0)\n",
    "expected_cells_data = empirical_count_any.copy()\n",
    "expected_cells_data['lineage_size'] = expected_cells_data.index.map(lineage_sizes)\n",
    "expected_cells_data['lineage_size_binned'] = 2**round(np.log(expected_cells_data.lineage_size)/np.log(2))\n",
    "expected_cells_data = expected_cells_data.groupby('lineage_size_binned').sum()\n",
    "empirical_count_any = empirical_count_any > 0\n",
    "empirical_count_any.sum(axis=0)\n"
   ]
  },
  {
   "cell_type": "code",
   "execution_count": 132,
   "metadata": {},
   "outputs": [
    {
     "name": "stderr",
     "output_type": "stream",
     "text": [
      "/var/folders/dz/swf8xvz50dv721hmb0b_nps00000gn/T/ipykernel_5304/1756995345.py:12: UserWarning: FixedFormatter should only be used together with FixedLocator\n",
      "  ax.set_xticklabels(ax.get_xticklabels(), rotation=90)\n",
      "/var/folders/dz/swf8xvz50dv721hmb0b_nps00000gn/T/ipykernel_5304/1756995345.py:16: UserWarning: Tight layout not applied. The left and right margins cannot be made large enough to accommodate all axes decorations.\n",
      "  fig.tight_layout()\n"
     ]
    },
    {
     "data": {
      "image/png": "[encoded data removed]",
      "text/plain": [
       "<Figure size 75x300 with 1 Axes>"
      ]
     },
     "metadata": {
      "needs_background": "light"
     },
     "output_type": "display_data"
    }
   ],
   "source": [
    "fig, ax = plt.subplots(figsize=(0.5,2))\n",
    "at_least_2 = empirical_count_any.index.map(lineage_sizes) > 1\n",
    "n_lineages = at_least_2.sum()\n",
    "g=sns.scatterplot(empirical_count_any[at_least_2].sum(axis=0)/n_lineages, marker='o', color='k', label='data', ax=ax, alpha=0.5, clip_on=False)\n",
    "at_least_2 = prob_any_in_lineage.index.map(lineage_sizes) > 1\n",
    "n_lineages = at_least_2.sum()\n",
    "sns.scatterplot(prob_any_in_lineage[at_least_2].sum(axis=0)/n_lineages, marker='.', color='k', label='null model', ax=ax, alpha=0.8, clip_on=False)\n",
    "\n",
    "sns.move_legend(g, loc='upper left', bbox_to_anchor=(1,1), frameon=False)\n",
    "ax.set_yscale('log')\n",
    "ax.set_xlabel('')\n",
    "ax.set_xticklabels(ax.get_xticklabels(), rotation=90)\n",
    "# ax.set_ylim([10,10**4])\n",
    "sns.despine(fig)\n",
    "ax.set_ylabel('Fraction of lineages with celltype')\n",
    "fig.tight_layout()\n",
    "fig.savefig(f'{FIGURE_OUTDIR}/lineage_compostion_celltype_any_cells.pdf', bbox_inches='tight')"
   ]
  },
  {
   "cell_type": "code",
   "execution_count": 117,
   "metadata": {},
   "outputs": [
    {
     "data": {
      "image/png": "[encoded data removed]",
      "text/plain": [
       "<Figure size 375x300 with 5 Axes>"
      ]
     },
     "metadata": {
      "needs_background": "light"
     },
     "output_type": "display_data"
    }
   ],
   "source": [
    "fig, axes = plt.subplots(2,3,figsize=(2.5,2), sharex=True, sharey=True)\n",
    "axes = axes.flatten()\n",
    "\n",
    "axes[2].remove()\n",
    "axes = [axes[0], axes[1], axes[3], axes[4], axes[5]]\n",
    "# axes = axes\n",
    "i = 0\n",
    "\n",
    "filter_on = (2**np.round(np.log(lineage_sizes)/np.log(2))).value_counts() > 10\n",
    "for col in expected_cells_data.columns:\n",
    "    if col == 'lineage_size':\n",
    "        continue\n",
    "    else:\n",
    "        ax = axes[i]\n",
    "        i+=1\n",
    "    title = col.strip('cells') #col.split(\" \")[0]+ + \" \".join(col.split(\" \")[1:])\n",
    "    ax.text(0.1,1.,title, transform=ax.transAxes,fontsize=7,va='top', ha='left')\n",
    "    filter_on = ((2**np.round(np.log(lineage_sizes)/np.log(2))).value_counts() > 10) & (expected_cells_data[col] > 5)\n",
    "    ax.plot(expected_cells_data.loc[filter_on,col]/expected_cells_data.loc[filter_on,'lineage_size'],'o-', color=bcelltype_colors_alt[col],markersize=1)\n",
    "    line1, = ax.plot(expected_cells_model.loc[filter_on, col]/expected_cells_model.loc[filter_on, 'lineage_size'],'o-', color=bcelltype_colors_alt[col],markersize=1)\n",
    "    line1.set_dashes((3,2))\n",
    "    ax.set_yscale('log')\n",
    "    ax.set_xscale('log')\n",
    "fig.supxlabel('Binned number of VDJs in lineage', fontsize=7, y = -0.05)\n",
    "fig.supylabel('Average fraction of VDJs', fontsize=7, x=-0.05)\n",
    "axes[1].plot([],[], color='k', label='data')\n",
    "line1,  = axes[1].plot([],[], color='k', label='null model')\n",
    "line1.set_dashes((3,2))\n",
    "axes[1].legend(loc='upper left', bbox_to_anchor=(1,1), frameon=False)\n",
    "sns.despine(fig)\n",
    "axes[1].set_ylim([.5*10**-3,4])\n",
    "# fig.tight_layout()\n",
    "fig.savefig(f'{FIGURE_OUTDIR}/lineage_compostion_celltype_total_cells.pdf', bbox_inches='tight')\n"
   ]
  },
  {
   "cell_type": "code",
   "execution_count": 118,
   "metadata": {},
   "outputs": [
    {
     "data": {
      "text/html": [
       "<div>\n",
       "<style scoped>\n",
       "    .dataframe tbody tr th:only-of-type {\n",
       "        vertical-align: middle;\n",
       "    }\n",
       "\n",
       "    .dataframe tbody tr th {\n",
       "        vertical-align: top;\n",
       "    }\n",
       "\n",
       "    .dataframe thead th {\n",
       "        text-align: right;\n",
       "    }\n",
       "</style>\n",
       "<table border=\"1\" class=\"dataframe\">\n",
       "  <thead>\n",
       "    <tr style=\"text-align: right;\">\n",
       "      <th>celltype</th>\n",
       "      <th>ASC-1</th>\n",
       "      <th>ASC-2</th>\n",
       "      <th>ASC-3</th>\n",
       "      <th>ASC-4</th>\n",
       "      <th>Memory B cells</th>\n",
       "      <th>lineage_size</th>\n",
       "    </tr>\n",
       "    <tr>\n",
       "      <th>lineage_size_binned</th>\n",
       "      <th></th>\n",
       "      <th></th>\n",
       "      <th></th>\n",
       "      <th></th>\n",
       "      <th></th>\n",
       "      <th></th>\n",
       "    </tr>\n",
       "  </thead>\n",
       "  <tbody>\n",
       "    <tr>\n",
       "      <th>1.0</th>\n",
       "      <td>4189.0</td>\n",
       "      <td>1086.0</td>\n",
       "      <td>3880.0</td>\n",
       "      <td>92.0</td>\n",
       "      <td>54052.0</td>\n",
       "      <td>61294</td>\n",
       "    </tr>\n",
       "    <tr>\n",
       "      <th>2.0</th>\n",
       "      <td>760.0</td>\n",
       "      <td>229.0</td>\n",
       "      <td>1214.0</td>\n",
       "      <td>20.0</td>\n",
       "      <td>7328.0</td>\n",
       "      <td>8742</td>\n",
       "    </tr>\n",
       "    <tr>\n",
       "      <th>4.0</th>\n",
       "      <td>478.0</td>\n",
       "      <td>134.0</td>\n",
       "      <td>1132.0</td>\n",
       "      <td>7.0</td>\n",
       "      <td>4676.0</td>\n",
       "      <td>5658</td>\n",
       "    </tr>\n",
       "    <tr>\n",
       "      <th>8.0</th>\n",
       "      <td>139.0</td>\n",
       "      <td>46.0</td>\n",
       "      <td>536.0</td>\n",
       "      <td>2.0</td>\n",
       "      <td>1461.0</td>\n",
       "      <td>1858</td>\n",
       "    </tr>\n",
       "    <tr>\n",
       "      <th>16.0</th>\n",
       "      <td>87.0</td>\n",
       "      <td>28.0</td>\n",
       "      <td>532.0</td>\n",
       "      <td>0.0</td>\n",
       "      <td>520.0</td>\n",
       "      <td>807</td>\n",
       "    </tr>\n",
       "    <tr>\n",
       "      <th>32.0</th>\n",
       "      <td>64.0</td>\n",
       "      <td>51.0</td>\n",
       "      <td>638.0</td>\n",
       "      <td>2.0</td>\n",
       "      <td>256.0</td>\n",
       "      <td>608</td>\n",
       "    </tr>\n",
       "    <tr>\n",
       "      <th>64.0</th>\n",
       "      <td>41.0</td>\n",
       "      <td>23.0</td>\n",
       "      <td>114.0</td>\n",
       "      <td>1.0</td>\n",
       "      <td>91.0</td>\n",
       "      <td>175</td>\n",
       "    </tr>\n",
       "    <tr>\n",
       "      <th>128.0</th>\n",
       "      <td>1.0</td>\n",
       "      <td>0.0</td>\n",
       "      <td>2.0</td>\n",
       "      <td>0.0</td>\n",
       "      <td>137.0</td>\n",
       "      <td>136</td>\n",
       "    </tr>\n",
       "  </tbody>\n",
       "</table>\n",
       "</div>"
      ],
      "text/plain": [
       "celltype              ASC-1   ASC-2   ASC-3  ASC-4  Memory B cells  lineage_size\n",
       "lineage_size_binned                                                             \n",
       "1.0                  4189.0  1086.0  3880.0   92.0         54052.0         61294\n",
       "2.0                   760.0   229.0  1214.0   20.0          7328.0          8742\n",
       "4.0                   478.0   134.0  1132.0    7.0          4676.0          5658\n",
       "8.0                   139.0    46.0   536.0    2.0          1461.0          1858\n",
       "16.0                   87.0    28.0   532.0    0.0           520.0           807\n",
       "32.0                   64.0    51.0   638.0    2.0           256.0           608\n",
       "64.0                   41.0    23.0   114.0    1.0            91.0           175\n",
       "128.0                   1.0     0.0     2.0    0.0           137.0           136"
      ]
     },
     "execution_count": 118,
     "metadata": {},
     "output_type": "execute_result"
    }
   ],
   "source": [
    "expected_cells_data"
   ]
  },
  {
   "cell_type": "code",
   "execution_count": null,
   "metadata": {},
   "outputs": [],
   "source": []
  }
 ],
 "metadata": {
  "kernelspec": {
   "display_name": "sc",
   "language": "python",
   "name": "python3"
  },
  "language_info": {
   "codemirror_mode": {
    "name": "ipython",
    "version": 3
   },
   "file_extension": ".py",
   "mimetype": "text/x-python",
   "name": "python",
   "nbconvert_exporter": "python",
   "pygments_lexer": "ipython3",
   "version": "3.10.8"
  },
  "orig_nbformat": 4
 },
 "nbformat": 4,
 "nbformat_minor": 2
}
