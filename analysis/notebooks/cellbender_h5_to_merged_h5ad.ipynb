{
 "cells": [
  {
   "cell_type": "code",
   "execution_count": 1,
   "id": "a31f1954",
   "metadata": {},
   "outputs": [],
   "source": [
    "import numpy as np\n",
    "import pandas as pd\n",
    "import scanpy as sc\n",
    "import scanpy.external as sce\n",
    "import matplotlib.pyplot as plt\n",
    "import seaborn as sns\n",
    "\n",
    "import anndata as ad\n",
    "\n",
    "from copy import deepcopy\n",
    "from glob import glob"
   ]
  },
  {
   "cell_type": "code",
   "execution_count": 2,
   "id": "ef97c1e2",
   "metadata": {},
   "outputs": [
    {
     "name": "stdout",
     "output_type": "stream",
     "text": [
      "['../data/cellbender/TBd3_frozen_BMb', '../data/cellbender/TBd3_frozen_PBa', '../data/cellbender/TBd3_fresh_P6', '../data/cellbender/TBd3_fresh_P50', '../data/cellbender/TBd3_fresh_B200', '../data/cellbender/TBd3_frozen_BMa', '../data/cellbender/TBd3_frozen_PBb', '../data/cellbender/TBd3_fresh_B20']\n"
     ]
    }
   ],
   "source": [
    "cellbender_dir_paths=glob('../data/cellbender/*')\n",
    "print(cellbender_dir_paths)"
   ]
  },
  {
   "cell_type": "code",
   "execution_count": 3,
   "id": "1d5216e9",
   "metadata": {},
   "outputs": [
    {
     "name": "stdout",
     "output_type": "stream",
     "text": [
      "TBd3_frozen_BMb\n",
      "../data/cellbender/TBd3_frozen_BMb/background_removed_filtered.h5\n"
     ]
    },
    {
     "name": "stderr",
     "output_type": "stream",
     "text": [
      "/Users/ivanacvijovic/miniconda3/envs/scanpy-h5-scalar-patch/lib/python3.10/site-packages/scanpy/readwrite.py:281: FutureWarning: X.dtype being converted to np.float32 from uint32. In the next version of anndata (0.9) conversion will not be automatic. Pass dtype explicitly to avoid this warning. Pass `AnnData(X, dtype=X.dtype, ...)` to get the future behavour.\n",
      "  adata = AnnData(\n",
      "/Users/ivanacvijovic/miniconda3/envs/scanpy-h5-scalar-patch/lib/python3.10/site-packages/anndata/_core/anndata.py:1830: UserWarning: Variable names are not unique. To make them unique, call `.var_names_make_unique`.\n",
      "  utils.warn_names_duplicates(\"var\")\n"
     ]
    },
    {
     "name": "stdout",
     "output_type": "stream",
     "text": [
      "TBd3_frozen_PBa\n",
      "../data/cellbender/TBd3_frozen_PBa/background_removed_filtered.h5\n"
     ]
    },
    {
     "name": "stderr",
     "output_type": "stream",
     "text": [
      "/Users/ivanacvijovic/miniconda3/envs/scanpy-h5-scalar-patch/lib/python3.10/site-packages/scanpy/readwrite.py:281: FutureWarning: X.dtype being converted to np.float32 from uint32. In the next version of anndata (0.9) conversion will not be automatic. Pass dtype explicitly to avoid this warning. Pass `AnnData(X, dtype=X.dtype, ...)` to get the future behavour.\n",
      "  adata = AnnData(\n",
      "/Users/ivanacvijovic/miniconda3/envs/scanpy-h5-scalar-patch/lib/python3.10/site-packages/anndata/_core/anndata.py:1830: UserWarning: Variable names are not unique. To make them unique, call `.var_names_make_unique`.\n",
      "  utils.warn_names_duplicates(\"var\")\n"
     ]
    },
    {
     "name": "stdout",
     "output_type": "stream",
     "text": [
      "TBd3_fresh_P6\n",
      "../data/cellbender/TBd3_fresh_P6/background_removed_filtered.h5\n"
     ]
    },
    {
     "name": "stderr",
     "output_type": "stream",
     "text": [
      "/Users/ivanacvijovic/miniconda3/envs/scanpy-h5-scalar-patch/lib/python3.10/site-packages/scanpy/readwrite.py:281: FutureWarning: X.dtype being converted to np.float32 from uint32. In the next version of anndata (0.9) conversion will not be automatic. Pass dtype explicitly to avoid this warning. Pass `AnnData(X, dtype=X.dtype, ...)` to get the future behavour.\n",
      "  adata = AnnData(\n",
      "/Users/ivanacvijovic/miniconda3/envs/scanpy-h5-scalar-patch/lib/python3.10/site-packages/anndata/_core/anndata.py:1830: UserWarning: Variable names are not unique. To make them unique, call `.var_names_make_unique`.\n",
      "  utils.warn_names_duplicates(\"var\")\n"
     ]
    },
    {
     "name": "stdout",
     "output_type": "stream",
     "text": [
      "TBd3_fresh_P50\n",
      "../data/cellbender/TBd3_fresh_P50/background_removed_filtered.h5\n"
     ]
    },
    {
     "name": "stderr",
     "output_type": "stream",
     "text": [
      "/Users/ivanacvijovic/miniconda3/envs/scanpy-h5-scalar-patch/lib/python3.10/site-packages/scanpy/readwrite.py:281: FutureWarning: X.dtype being converted to np.float32 from uint32. In the next version of anndata (0.9) conversion will not be automatic. Pass dtype explicitly to avoid this warning. Pass `AnnData(X, dtype=X.dtype, ...)` to get the future behavour.\n",
      "  adata = AnnData(\n",
      "/Users/ivanacvijovic/miniconda3/envs/scanpy-h5-scalar-patch/lib/python3.10/site-packages/anndata/_core/anndata.py:1830: UserWarning: Variable names are not unique. To make them unique, call `.var_names_make_unique`.\n",
      "  utils.warn_names_duplicates(\"var\")\n"
     ]
    },
    {
     "name": "stdout",
     "output_type": "stream",
     "text": [
      "TBd3_fresh_B200\n",
      "../data/cellbender/TBd3_fresh_B200/background_removed_filtered.h5\n"
     ]
    },
    {
     "name": "stderr",
     "output_type": "stream",
     "text": [
      "/Users/ivanacvijovic/miniconda3/envs/scanpy-h5-scalar-patch/lib/python3.10/site-packages/scanpy/readwrite.py:281: FutureWarning: X.dtype being converted to np.float32 from uint32. In the next version of anndata (0.9) conversion will not be automatic. Pass dtype explicitly to avoid this warning. Pass `AnnData(X, dtype=X.dtype, ...)` to get the future behavour.\n",
      "  adata = AnnData(\n",
      "/Users/ivanacvijovic/miniconda3/envs/scanpy-h5-scalar-patch/lib/python3.10/site-packages/anndata/_core/anndata.py:1830: UserWarning: Variable names are not unique. To make them unique, call `.var_names_make_unique`.\n",
      "  utils.warn_names_duplicates(\"var\")\n"
     ]
    },
    {
     "name": "stdout",
     "output_type": "stream",
     "text": [
      "TBd3_frozen_BMa\n",
      "../data/cellbender/TBd3_frozen_BMa/background_removed_filtered.h5\n"
     ]
    },
    {
     "name": "stderr",
     "output_type": "stream",
     "text": [
      "/Users/ivanacvijovic/miniconda3/envs/scanpy-h5-scalar-patch/lib/python3.10/site-packages/scanpy/readwrite.py:281: FutureWarning: X.dtype being converted to np.float32 from uint32. In the next version of anndata (0.9) conversion will not be automatic. Pass dtype explicitly to avoid this warning. Pass `AnnData(X, dtype=X.dtype, ...)` to get the future behavour.\n",
      "  adata = AnnData(\n",
      "/Users/ivanacvijovic/miniconda3/envs/scanpy-h5-scalar-patch/lib/python3.10/site-packages/anndata/_core/anndata.py:1830: UserWarning: Variable names are not unique. To make them unique, call `.var_names_make_unique`.\n",
      "  utils.warn_names_duplicates(\"var\")\n"
     ]
    },
    {
     "name": "stdout",
     "output_type": "stream",
     "text": [
      "TBd3_frozen_PBb\n",
      "../data/cellbender/TBd3_frozen_PBb/background_removed_filtered.h5\n"
     ]
    },
    {
     "name": "stderr",
     "output_type": "stream",
     "text": [
      "/Users/ivanacvijovic/miniconda3/envs/scanpy-h5-scalar-patch/lib/python3.10/site-packages/scanpy/readwrite.py:281: FutureWarning: X.dtype being converted to np.float32 from uint32. In the next version of anndata (0.9) conversion will not be automatic. Pass dtype explicitly to avoid this warning. Pass `AnnData(X, dtype=X.dtype, ...)` to get the future behavour.\n",
      "  adata = AnnData(\n",
      "/Users/ivanacvijovic/miniconda3/envs/scanpy-h5-scalar-patch/lib/python3.10/site-packages/anndata/_core/anndata.py:1830: UserWarning: Variable names are not unique. To make them unique, call `.var_names_make_unique`.\n",
      "  utils.warn_names_duplicates(\"var\")\n"
     ]
    },
    {
     "name": "stdout",
     "output_type": "stream",
     "text": [
      "TBd3_fresh_B20\n",
      "../data/cellbender/TBd3_fresh_B20/background_removed_filtered.h5\n"
     ]
    },
    {
     "name": "stderr",
     "output_type": "stream",
     "text": [
      "/Users/ivanacvijovic/miniconda3/envs/scanpy-h5-scalar-patch/lib/python3.10/site-packages/scanpy/readwrite.py:281: FutureWarning: X.dtype being converted to np.float32 from uint32. In the next version of anndata (0.9) conversion will not be automatic. Pass dtype explicitly to avoid this warning. Pass `AnnData(X, dtype=X.dtype, ...)` to get the future behavour.\n",
      "  adata = AnnData(\n",
      "/Users/ivanacvijovic/miniconda3/envs/scanpy-h5-scalar-patch/lib/python3.10/site-packages/anndata/_core/anndata.py:1830: UserWarning: Variable names are not unique. To make them unique, call `.var_names_make_unique`.\n",
      "  utils.warn_names_duplicates(\"var\")\n"
     ]
    }
   ],
   "source": [
    "adata_list = []\n",
    "for directory in cellbender_dir_paths:\n",
    "    sample_uid = directory.split(\"/\")[-1]\n",
    "    print(sample_uid)\n",
    "    donor= sample_uid.split(\"_\")[0]\n",
    "    cell_treatment = sample_uid.split(\"_\")[1]\n",
    "    sample_id = sample_uid.split(\"_\")[2]\n",
    "    \n",
    "    h5_path = \"{}/background_removed_filtered.h5\".format(directory)\n",
    "    print(h5_path)\n",
    "\n",
    "    adata = sc.read_10x_h5(h5_path)\n",
    "    cell_barcode_path = \"{}/background_removed_cell_barcodes.csv\".format(directory)\n",
    "    cell_barcodes = pd.read_csv(cell_barcode_path, header=None)\n",
    "    \n",
    "    adata.obs['sample_uid'] = sample_uid\n",
    "    adata.obs['donor'] = donor\n",
    "    adata.obs['cell_treatment'] = cell_treatment\n",
    "    adata.obs['sample_id'] = sample_id\n",
    "    adata.obs_names = sample_uid + \"-\" + cell_barcodes[0].astype(str)\n",
    "    \n",
    "    adata.obs_names_make_unique()\n",
    "    adata.var_names_make_unique()\n",
    "    adata_list.append(adata)\n",
    "adata = ad.concat(adata_list)\n"
   ]
  },
  {
   "cell_type": "code",
   "execution_count": 5,
   "id": "b38a306d",
   "metadata": {},
   "outputs": [],
   "source": [
    "adata.write_h5ad('../data/cellbender/combined.h5ad.gz', compression='gzip')"
   ]
  },
  {
   "cell_type": "code",
   "execution_count": 7,
   "id": "b09c6d6d",
   "metadata": {},
   "outputs": [],
   "source": [
    "adata = ad.read_h5ad('../data/cellbender/combined.h5ad.gz')"
   ]
  }
 ],
 "metadata": {
  "kernelspec": {
   "display_name": "Python 3 (ipykernel)",
   "language": "python",
   "name": "python3"
  },
  "language_info": {
   "codemirror_mode": {
    "name": "ipython",
    "version": 3
   },
   "file_extension": ".py",
   "mimetype": "text/x-python",
   "name": "python",
   "nbconvert_exporter": "python",
   "pygments_lexer": "ipython3",
   "version": "3.10.8"
  }
 },
 "nbformat": 4,
 "nbformat_minor": 5
}
