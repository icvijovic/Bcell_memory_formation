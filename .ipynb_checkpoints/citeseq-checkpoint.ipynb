{
 "cells": [
  {
   "cell_type": "code",
   "execution_count": 42,
   "id": "cd98b1f5-aa64-4e8f-8ec1-daa62e298ffb",
   "metadata": {},
   "outputs": [
    {
     "name": "stdout",
     "output_type": "stream",
     "text": [
      "outs/per_sample_outs/count/sample_feature_bc_matrix/\n"
     ]
    },
    {
     "ename": "FileNotFoundError",
     "evalue": "Did not find file outs/per_sample_outs/count/sample_feature_bc_matrix/matrix.mtx.gz.",
     "output_type": "error",
     "traceback": [
      "\u001b[0;31m---------------------------------------------------------------------------\u001b[0m",
      "\u001b[0;31mFileNotFoundError\u001b[0m                         Traceback (most recent call last)",
      "Input \u001b[0;32mIn [42]\u001b[0m, in \u001b[0;36m<cell line: 92>\u001b[0;34m()\u001b[0m\n\u001b[1;32m     89\u001b[0m     \u001b[38;5;28;01mreturn\u001b[39;00m adata\n\u001b[1;32m     91\u001b[0m \u001b[38;5;66;03m# create mdata object\u001b[39;00m\n\u001b[0;32m---> 92\u001b[0m adata \u001b[38;5;241m=\u001b[39m \u001b[43mload_data\u001b[49m\u001b[43m(\u001b[49m\u001b[43msamplenames\u001b[49m\u001b[38;5;241;43m=\u001b[39;49m\u001b[43msamples\u001b[49m\u001b[43m,\u001b[49m\u001b[43m \u001b[49m\u001b[43mdata\u001b[49m\u001b[43m \u001b[49m\u001b[38;5;241;43m=\u001b[39;49m\u001b[43m \u001b[49m\u001b[43mdata\u001b[49m\u001b[43m,\u001b[49m\u001b[43m \u001b[49m\u001b[43mdonor\u001b[49m\u001b[38;5;241;43m=\u001b[39;49m\u001b[43mdonor\u001b[49m\u001b[43m,\u001b[49m\u001b[43m \u001b[49m\u001b[43moverload\u001b[49m\u001b[38;5;241;43m=\u001b[39;49m\u001b[38;5;28;43;01mFalse\u001b[39;49;00m\u001b[43m)\u001b[49m\n\u001b[1;32m     94\u001b[0m adata \u001b[38;5;241m=\u001b[39m perform_qc(adata)\n\u001b[1;32m     96\u001b[0m mdata \u001b[38;5;241m=\u001b[39m mu\u001b[38;5;241m.\u001b[39mMuData({\u001b[38;5;124m'\u001b[39m\u001b[38;5;124mprot\u001b[39m\u001b[38;5;124m'\u001b[39m: adata})\n",
      "Input \u001b[0;32mIn [42]\u001b[0m, in \u001b[0;36mload_data\u001b[0;34m(samplenames, data, donor, overload)\u001b[0m\n\u001b[1;32m     53\u001b[0m datapath \u001b[38;5;241m=\u001b[39m \u001b[38;5;124m'\u001b[39m\u001b[38;5;124mouts/per_sample_outs/count/sample_feature_bc_matrix/\u001b[39m\u001b[38;5;124m'\u001b[39m\u001b[38;5;241m.\u001b[39mformat(data, donor, sample, donor ,sample)\n\u001b[1;32m     54\u001b[0m \u001b[38;5;28mprint\u001b[39m(datapath)\n\u001b[0;32m---> 55\u001b[0m prot \u001b[38;5;241m=\u001b[39m \u001b[43mmu\u001b[49m\u001b[38;5;241;43m.\u001b[39;49m\u001b[43mread_10x_mtx\u001b[49m\u001b[43m(\u001b[49m\u001b[43mdatapath\u001b[49m\u001b[43m)\u001b[49m\n\u001b[1;32m     56\u001b[0m prots\u001b[38;5;241m.\u001b[39mappend(prot)\n\u001b[1;32m     57\u001b[0m prot[\u001b[38;5;124m'\u001b[39m\u001b[38;5;124mprot\u001b[39m\u001b[38;5;124m'\u001b[39m]\u001b[38;5;241m.\u001b[39mobs[\u001b[38;5;124m'\u001b[39m\u001b[38;5;124mtissue\u001b[39m\u001b[38;5;124m'\u001b[39m] \u001b[38;5;241m=\u001b[39m sample\n",
      "File \u001b[0;32m~/miniconda3/envs/muon/lib/python3.9/site-packages/muon/_core/io.py:97\u001b[0m, in \u001b[0;36mread_10x_mtx\u001b[0;34m(path, extended, *args, **kwargs)\u001b[0m\n\u001b[1;32m     76\u001b[0m \u001b[38;5;28;01mdef\u001b[39;00m \u001b[38;5;21mread_10x_mtx\u001b[39m(path: PathLike, extended: \u001b[38;5;28mbool\u001b[39m \u001b[38;5;241m=\u001b[39m \u001b[38;5;28;01mTrue\u001b[39;00m, \u001b[38;5;241m*\u001b[39margs, \u001b[38;5;241m*\u001b[39m\u001b[38;5;241m*\u001b[39mkwargs) \u001b[38;5;241m-\u001b[39m\u001b[38;5;241m>\u001b[39m MuData:\n\u001b[1;32m     77\u001b[0m     \u001b[38;5;124;03m\"\"\"\u001b[39;00m\n\u001b[1;32m     78\u001b[0m \u001b[38;5;124;03m    Read data from 10X Genomics-formatted files\u001b[39;00m\n\u001b[1;32m     79\u001b[0m \u001b[38;5;124;03m    (matrix.mtx.gz, features.tsv.gz, barcodes.tsv.gz)\u001b[39;00m\n\u001b[0;32m   (...)\u001b[0m\n\u001b[1;32m     94\u001b[0m \u001b[38;5;124;03m            locating peak annotation and fragments files.\u001b[39;00m\n\u001b[1;32m     95\u001b[0m \u001b[38;5;124;03m    \"\"\"\u001b[39;00m\n\u001b[0;32m---> 97\u001b[0m     adata \u001b[38;5;241m=\u001b[39m \u001b[43msc\u001b[49m\u001b[38;5;241;43m.\u001b[39;49m\u001b[43mread_10x_mtx\u001b[49m\u001b[43m(\u001b[49m\u001b[43mpath\u001b[49m\u001b[43m,\u001b[49m\u001b[43m \u001b[49m\u001b[43mgex_only\u001b[49m\u001b[38;5;241;43m=\u001b[39;49m\u001b[38;5;28;43;01mFalse\u001b[39;49;00m\u001b[43m,\u001b[49m\u001b[43m \u001b[49m\u001b[38;5;241;43m*\u001b[39;49m\u001b[43margs\u001b[49m\u001b[43m,\u001b[49m\u001b[43m \u001b[49m\u001b[38;5;241;43m*\u001b[39;49m\u001b[38;5;241;43m*\u001b[39;49m\u001b[43mkwargs\u001b[49m\u001b[43m)\u001b[49m\n\u001b[1;32m     99\u001b[0m     mdata \u001b[38;5;241m=\u001b[39m MuData(adata)\n\u001b[1;32m    101\u001b[0m     \u001b[38;5;66;03m# Patches sc.read_10x_h5 behaviour to:\u001b[39;00m\n\u001b[1;32m    102\u001b[0m     \u001b[38;5;66;03m# - attempt to add peak annotation\u001b[39;00m\n\u001b[1;32m    103\u001b[0m     \u001b[38;5;66;03m# - attempt to locate fragments file\u001b[39;00m\n",
      "File \u001b[0;32m~/miniconda3/envs/muon/lib/python3.9/site-packages/scanpy/readwrite.py:481\u001b[0m, in \u001b[0;36mread_10x_mtx\u001b[0;34m(path, var_names, make_unique, cache, cache_compression, gex_only, prefix)\u001b[0m\n\u001b[1;32m    479\u001b[0m genefile_exists \u001b[38;5;241m=\u001b[39m (path \u001b[38;5;241m/\u001b[39m \u001b[38;5;124mf\u001b[39m\u001b[38;5;124m'\u001b[39m\u001b[38;5;132;01m{\u001b[39;00mprefix\u001b[38;5;132;01m}\u001b[39;00m\u001b[38;5;124mgenes.tsv\u001b[39m\u001b[38;5;124m'\u001b[39m)\u001b[38;5;241m.\u001b[39mis_file()\n\u001b[1;32m    480\u001b[0m read \u001b[38;5;241m=\u001b[39m _read_legacy_10x_mtx \u001b[38;5;28;01mif\u001b[39;00m genefile_exists \u001b[38;5;28;01melse\u001b[39;00m _read_v3_10x_mtx\n\u001b[0;32m--> 481\u001b[0m adata \u001b[38;5;241m=\u001b[39m \u001b[43mread\u001b[49m\u001b[43m(\u001b[49m\n\u001b[1;32m    482\u001b[0m \u001b[43m    \u001b[49m\u001b[38;5;28;43mstr\u001b[39;49m\u001b[43m(\u001b[49m\u001b[43mpath\u001b[49m\u001b[43m)\u001b[49m\u001b[43m,\u001b[49m\n\u001b[1;32m    483\u001b[0m \u001b[43m    \u001b[49m\u001b[43mvar_names\u001b[49m\u001b[38;5;241;43m=\u001b[39;49m\u001b[43mvar_names\u001b[49m\u001b[43m,\u001b[49m\n\u001b[1;32m    484\u001b[0m \u001b[43m    \u001b[49m\u001b[43mmake_unique\u001b[49m\u001b[38;5;241;43m=\u001b[39;49m\u001b[43mmake_unique\u001b[49m\u001b[43m,\u001b[49m\n\u001b[1;32m    485\u001b[0m \u001b[43m    \u001b[49m\u001b[43mcache\u001b[49m\u001b[38;5;241;43m=\u001b[39;49m\u001b[43mcache\u001b[49m\u001b[43m,\u001b[49m\n\u001b[1;32m    486\u001b[0m \u001b[43m    \u001b[49m\u001b[43mcache_compression\u001b[49m\u001b[38;5;241;43m=\u001b[39;49m\u001b[43mcache_compression\u001b[49m\u001b[43m,\u001b[49m\n\u001b[1;32m    487\u001b[0m \u001b[43m    \u001b[49m\u001b[43mprefix\u001b[49m\u001b[38;5;241;43m=\u001b[39;49m\u001b[43mprefix\u001b[49m\u001b[43m,\u001b[49m\n\u001b[1;32m    488\u001b[0m \u001b[43m\u001b[49m\u001b[43m)\u001b[49m\n\u001b[1;32m    489\u001b[0m \u001b[38;5;28;01mif\u001b[39;00m genefile_exists \u001b[38;5;129;01mor\u001b[39;00m \u001b[38;5;129;01mnot\u001b[39;00m gex_only:\n\u001b[1;32m    490\u001b[0m     \u001b[38;5;28;01mreturn\u001b[39;00m adata\n",
      "File \u001b[0;32m~/miniconda3/envs/muon/lib/python3.9/site-packages/scanpy/readwrite.py:545\u001b[0m, in \u001b[0;36m_read_v3_10x_mtx\u001b[0;34m(path, var_names, make_unique, cache, cache_compression, prefix)\u001b[0m\n\u001b[1;32m    541\u001b[0m \u001b[38;5;124;03m\"\"\"\u001b[39;00m\n\u001b[1;32m    542\u001b[0m \u001b[38;5;124;03mRead mtx from output from Cell Ranger v3 or later versions\u001b[39;00m\n\u001b[1;32m    543\u001b[0m \u001b[38;5;124;03m\"\"\"\u001b[39;00m\n\u001b[1;32m    544\u001b[0m path \u001b[38;5;241m=\u001b[39m Path(path)\n\u001b[0;32m--> 545\u001b[0m adata \u001b[38;5;241m=\u001b[39m \u001b[43mread\u001b[49m\u001b[43m(\u001b[49m\n\u001b[1;32m    546\u001b[0m \u001b[43m    \u001b[49m\u001b[43mpath\u001b[49m\u001b[43m \u001b[49m\u001b[38;5;241;43m/\u001b[39;49m\u001b[43m \u001b[49m\u001b[38;5;124;43mf\u001b[39;49m\u001b[38;5;124;43m'\u001b[39;49m\u001b[38;5;132;43;01m{\u001b[39;49;00m\u001b[43mprefix\u001b[49m\u001b[38;5;132;43;01m}\u001b[39;49;00m\u001b[38;5;124;43mmatrix.mtx.gz\u001b[39;49m\u001b[38;5;124;43m'\u001b[39;49m\u001b[43m,\u001b[49m\n\u001b[1;32m    547\u001b[0m \u001b[43m    \u001b[49m\u001b[43mcache\u001b[49m\u001b[38;5;241;43m=\u001b[39;49m\u001b[43mcache\u001b[49m\u001b[43m,\u001b[49m\n\u001b[1;32m    548\u001b[0m \u001b[43m    \u001b[49m\u001b[43mcache_compression\u001b[49m\u001b[38;5;241;43m=\u001b[39;49m\u001b[43mcache_compression\u001b[49m\u001b[43m,\u001b[49m\n\u001b[1;32m    549\u001b[0m \u001b[43m\u001b[49m\u001b[43m)\u001b[49m\u001b[38;5;241m.\u001b[39mT  \u001b[38;5;66;03m# transpose the data\u001b[39;00m\n\u001b[1;32m    550\u001b[0m genes \u001b[38;5;241m=\u001b[39m pd\u001b[38;5;241m.\u001b[39mread_csv(path \u001b[38;5;241m/\u001b[39m \u001b[38;5;124mf\u001b[39m\u001b[38;5;124m'\u001b[39m\u001b[38;5;132;01m{\u001b[39;00mprefix\u001b[38;5;132;01m}\u001b[39;00m\u001b[38;5;124mfeatures.tsv.gz\u001b[39m\u001b[38;5;124m'\u001b[39m, header\u001b[38;5;241m=\u001b[39m\u001b[38;5;28;01mNone\u001b[39;00m, sep\u001b[38;5;241m=\u001b[39m\u001b[38;5;124m'\u001b[39m\u001b[38;5;130;01m\\t\u001b[39;00m\u001b[38;5;124m'\u001b[39m)\n\u001b[1;32m    551\u001b[0m \u001b[38;5;28;01mif\u001b[39;00m var_names \u001b[38;5;241m==\u001b[39m \u001b[38;5;124m'\u001b[39m\u001b[38;5;124mgene_symbols\u001b[39m\u001b[38;5;124m'\u001b[39m:\n",
      "File \u001b[0;32m~/miniconda3/envs/muon/lib/python3.9/site-packages/scanpy/readwrite.py:112\u001b[0m, in \u001b[0;36mread\u001b[0;34m(filename, backed, sheet, ext, delimiter, first_column_names, backup_url, cache, cache_compression, **kwargs)\u001b[0m\n\u001b[1;32m    110\u001b[0m filename \u001b[38;5;241m=\u001b[39m Path(filename)  \u001b[38;5;66;03m# allow passing strings\u001b[39;00m\n\u001b[1;32m    111\u001b[0m \u001b[38;5;28;01mif\u001b[39;00m is_valid_filename(filename):\n\u001b[0;32m--> 112\u001b[0m     \u001b[38;5;28;01mreturn\u001b[39;00m \u001b[43m_read\u001b[49m\u001b[43m(\u001b[49m\n\u001b[1;32m    113\u001b[0m \u001b[43m        \u001b[49m\u001b[43mfilename\u001b[49m\u001b[43m,\u001b[49m\n\u001b[1;32m    114\u001b[0m \u001b[43m        \u001b[49m\u001b[43mbacked\u001b[49m\u001b[38;5;241;43m=\u001b[39;49m\u001b[43mbacked\u001b[49m\u001b[43m,\u001b[49m\n\u001b[1;32m    115\u001b[0m \u001b[43m        \u001b[49m\u001b[43msheet\u001b[49m\u001b[38;5;241;43m=\u001b[39;49m\u001b[43msheet\u001b[49m\u001b[43m,\u001b[49m\n\u001b[1;32m    116\u001b[0m \u001b[43m        \u001b[49m\u001b[43mext\u001b[49m\u001b[38;5;241;43m=\u001b[39;49m\u001b[43mext\u001b[49m\u001b[43m,\u001b[49m\n\u001b[1;32m    117\u001b[0m \u001b[43m        \u001b[49m\u001b[43mdelimiter\u001b[49m\u001b[38;5;241;43m=\u001b[39;49m\u001b[43mdelimiter\u001b[49m\u001b[43m,\u001b[49m\n\u001b[1;32m    118\u001b[0m \u001b[43m        \u001b[49m\u001b[43mfirst_column_names\u001b[49m\u001b[38;5;241;43m=\u001b[39;49m\u001b[43mfirst_column_names\u001b[49m\u001b[43m,\u001b[49m\n\u001b[1;32m    119\u001b[0m \u001b[43m        \u001b[49m\u001b[43mbackup_url\u001b[49m\u001b[38;5;241;43m=\u001b[39;49m\u001b[43mbackup_url\u001b[49m\u001b[43m,\u001b[49m\n\u001b[1;32m    120\u001b[0m \u001b[43m        \u001b[49m\u001b[43mcache\u001b[49m\u001b[38;5;241;43m=\u001b[39;49m\u001b[43mcache\u001b[49m\u001b[43m,\u001b[49m\n\u001b[1;32m    121\u001b[0m \u001b[43m        \u001b[49m\u001b[43mcache_compression\u001b[49m\u001b[38;5;241;43m=\u001b[39;49m\u001b[43mcache_compression\u001b[49m\u001b[43m,\u001b[49m\n\u001b[1;32m    122\u001b[0m \u001b[43m        \u001b[49m\u001b[38;5;241;43m*\u001b[39;49m\u001b[38;5;241;43m*\u001b[39;49m\u001b[43mkwargs\u001b[49m\u001b[43m,\u001b[49m\n\u001b[1;32m    123\u001b[0m \u001b[43m    \u001b[49m\u001b[43m)\u001b[49m\n\u001b[1;32m    124\u001b[0m \u001b[38;5;66;03m# generate filename and read to dict\u001b[39;00m\n\u001b[1;32m    125\u001b[0m filekey \u001b[38;5;241m=\u001b[39m \u001b[38;5;28mstr\u001b[39m(filename)\n",
      "File \u001b[0;32m~/miniconda3/envs/muon/lib/python3.9/site-packages/scanpy/readwrite.py:728\u001b[0m, in \u001b[0;36m_read\u001b[0;34m(filename, backed, sheet, ext, delimiter, first_column_names, backup_url, cache, cache_compression, suppress_cache_warning, **kwargs)\u001b[0m\n\u001b[1;32m    725\u001b[0m     \u001b[38;5;28;01mreturn\u001b[39;00m read_h5ad(path_cache)\n\u001b[1;32m    727\u001b[0m \u001b[38;5;28;01mif\u001b[39;00m \u001b[38;5;129;01mnot\u001b[39;00m is_present:\n\u001b[0;32m--> 728\u001b[0m     \u001b[38;5;28;01mraise\u001b[39;00m \u001b[38;5;167;01mFileNotFoundError\u001b[39;00m(\u001b[38;5;124mf\u001b[39m\u001b[38;5;124m'\u001b[39m\u001b[38;5;124mDid not find file \u001b[39m\u001b[38;5;132;01m{\u001b[39;00mfilename\u001b[38;5;132;01m}\u001b[39;00m\u001b[38;5;124m.\u001b[39m\u001b[38;5;124m'\u001b[39m)\n\u001b[1;32m    729\u001b[0m logg\u001b[38;5;241m.\u001b[39mdebug(\u001b[38;5;124mf\u001b[39m\u001b[38;5;124m'\u001b[39m\u001b[38;5;124mreading \u001b[39m\u001b[38;5;132;01m{\u001b[39;00mfilename\u001b[38;5;132;01m}\u001b[39;00m\u001b[38;5;124m'\u001b[39m)\n\u001b[1;32m    730\u001b[0m \u001b[38;5;28;01mif\u001b[39;00m \u001b[38;5;129;01mnot\u001b[39;00m cache \u001b[38;5;129;01mand\u001b[39;00m \u001b[38;5;129;01mnot\u001b[39;00m suppress_cache_warning:\n",
      "\u001b[0;31mFileNotFoundError\u001b[0m: Did not find file outs/per_sample_outs/count/sample_feature_bc_matrix/matrix.mtx.gz."
     ]
    }
   ],
   "source": [
    "import pandas as pd\n",
    "import scanpy as sc\n",
    "import scirpy as ir\n",
    "import numpy as np\n",
    "import pathlib\n",
    "import muon as mu\n",
    "from muon import prot as pt\n",
    "import os\n",
    "import numpy as np\n",
    "savefig_args = {\"dpi\": 300, \"bbox_inches\": \"tight\", \"pad_inches\": 0, \"transparent\": True}\n",
    "from scipy import stats\n",
    "import seaborn as sns\n",
    "import matplotlib.pyplot as plt\n",
    "overload = False\n",
    "if overload == True:\n",
    "    output_dir='figures/overload'\n",
    "else:\n",
    "    output_dir = \"figures/no_overload\"\n",
    "\n",
    "pathlib.Path(output_dir).mkdir(parents=True, exist_ok=True)\n",
    "output_suffix = \"\"\n",
    "output_formats = [\".png\", \".svg\"]\n",
    "sc.settings.figdir = output_dir\n",
    "sc.set_figure_params(dpi_save = 300)\n",
    "sc.set_figure_params(format = 'png')\n",
    "def save_figure(fig, name, output_dir=output_dir, output_suffix=output_suffix, output_formats=output_formats, savefig_args=savefig_args):\n",
    "    for output_format in output_formats:\n",
    "        fig.savefig(output_dir + \"/\" + name + output_suffix + output_format, **savefig_args)\n",
    "    return None\n",
    "\n",
    "\n",
    "donor = 'TBD6'\n",
    "data = 'data'\n",
    "samples = ['BM', 'PBMC', 'LN', 'SPL', 'BM_Overload', 'PBMC_Overload', 'LN_Overload', 'SPL_Overload']\n",
    "prots = []\n",
    "tenX_output = 'filtered'\n",
    "\n",
    "def load_data(samplenames, data, donor, overload):\n",
    "    \"\"\"samplename is a list of samplenames, \n",
    "    data is where the data were downloaded\n",
    "    donor is the name of the donor\n",
    "    all of these info are used to create the file path\n",
    "    \"\"\"\n",
    "    \n",
    "    for sample in samples:\n",
    "        if tenX_output == 'raw':\n",
    "            datapath = '{}/{}_{}/outs/multi/count/raw_feature_bc_matrix/'.format(data, donor, sample)\n",
    "            print(datapath)\n",
    "            prot = mu.read_10x_mtx(datapath)\n",
    "            prots.append(prot)\n",
    "            prot['prot'].obs['tissue'] = sample\n",
    "        if tenX_output == 'filtered':\n",
    "            datapath = '{}/{}_{}/outs/per_sample_outs/{}/count/sample_feature_bc_matrix/'.format(data, donor, sample, donor ,sample)\n",
    "            print(datapath)\n",
    "            prot = mu.read_10x_mtx(datapath)\n",
    "            prots.append(prot)\n",
    "            prot['prot'].obs['tissue'] = sample\n",
    " \n",
    "    adatas = []\n",
    "    for prot in prots:\n",
    "        adata = prot['prot']\n",
    "        adatas.append(adata)\n",
    "    if overload == True:\n",
    "        analysis = \"with_overload\"\n",
    "    else:\n",
    "        analysis = \"without_overload\"\n",
    "    if overload:\n",
    "    # hard coded number of samples right now\n",
    "        adata = adatas[0].concatenate(adatas[1], adatas[2], adatas[3], adatas[4], adatas[5], adatas[6], adatas[7])\n",
    "    else:\n",
    "        adata = adatas[0].concatenate(adatas[1], adatas[2], adatas[3])\n",
    "    return adata\n",
    "    \n",
    "def perform_qc(adata):    \n",
    "    # calculate qc metrics\n",
    "    sc.pp.calculate_qc_metrics(adata, percent_top=False, inplace = True)\n",
    "    sc.pl.highest_expr_genes(adata,save='prefilter')\n",
    "    # plot qc metrics\n",
    "    sc.pl.violin(adata, ['n_genes_by_counts', 'log1p_total_counts', 'total_counts'], stripplot=False, multi_panel=True, save='prefilter')\n",
    "    # cell filter\n",
    "    sc.pp.filter_cells(adata, min_counts=1000)\n",
    "    sc.pp.filter_cells(adata, max_counts=15000)\n",
    "\n",
    "    # plot results of filtering\n",
    "    sc.pl.violin(adata, ['n_genes_by_counts', 'log1p_total_counts', 'total_counts'], stripplot=False, multi_panel=True, save='postfilter')\n",
    "    sc.pl.violin(adata, ['n_genes_by_counts', 'log1p_total_counts', 'total_counts'], stripplot=False, multi_panel=True, rotation = 90, groupby='tissue', save='postfilter_tissue')\n",
    "\n",
    "    sc.pl.highest_expr_genes(adata, save='postfilter')\n",
    "    return adata\n",
    "\n",
    "# create mdata object\n",
    "adata = load_data(samplenames=samples, data = data, donor=donor, overload=False)\n",
    "\n",
    "adata = perform_qc(adata)\n",
    "\n",
    "mdata = mu.MuData({'prot': adata})\n",
    "prot = mdata['prot']\n",
    "prot.layers['counts'] = prot.X\n",
    "\n",
    "# a type of normalization reported to be good for cite-seq\n",
    "pt.pp.clr(mdata['prot'])\n",
    "sc.pl.scatter(prot, x=\"IgM_TotalSeqC\", y=\"CD20_TotalSeqC\", color='tissue')\n",
    "sc.tl.pca(prot)\n",
    "sc.pl.pca_overview(prot, color = 'tissue', save='pca_')\n",
    "\n",
    "sc.pl.pca_scatter(prot, color = 'tissue', components=[2,3], size=10, save='tissue')\n",
    "\n",
    "sc.pl.pca_scatter(prot, color = 'IgM_TotalSeqC', components=[2,3], size=10, save = 'Igm_{}'.format(analysis,tenX_output))\n",
    "\n",
    "sc.pl.pca_scatter(prot, color = 'CD38_TotalSeqC', components=[2,3], size=10, save = 'CD38')\n",
    "\n",
    "sc.pl.pca_scatter(prot, color = 'log1p_total_counts', components=[2,3], size=10, save = 'log1p_total_counts')\n",
    "sc.pp.neighbors(prot)\n",
    "\n",
    "\n",
    "def kdeplot(prot, pair, ok):\n",
    "        data = sc.get.obs_df(prot, keys = [pair[0], pair[1], ok])\n",
    "        data = data.groupby(ok).sample(n = 1000, replace = True)\n",
    "        # allows resampling the same cell\n",
    "        data.reset_index(inplace = True)\n",
    "        g = sns.JointGrid()\n",
    "        x, y, hue = data[pair[0]], data[pair[1]], data[ok]\n",
    "        sns.scatterplot(x=x, y=y, hue = hue, palette=palette, s=10, linewidth=0.1, edgecolor = 'k', ax=g.ax_joint)\n",
    "        sns.kdeplot(x=x, hue=hue, palette=palette, fill=False, linewidth=2, ax=g.ax_marg_x)\n",
    "        sns.kdeplot(y=y, hue=hue, palette=palette, linewidth=2, fill=False, ax=g.ax_marg_y)\n",
    "        return g\n",
    "\n",
    "import itertools\n",
    "ok = 'tissue'\n",
    "single_pair = (\"CD20_TotalSeqC\", True)\n",
    "palette = {'SPL':'#765760', 'PBMC':'#C1717B', 'BM':'#266967', 'LN':'#E4B363'}\n",
    "for pair in list(itertools.permutations(prot.var.index, 2)):\n",
    "    if pair[1] == 'CD20_TotalSeqC':\n",
    "        g = kdeplot(prot, pair, ok)\n",
    "                 \n"
   ]
  },
  {
   "cell_type": "code",
   "execution_count": null,
   "id": "8c11db93-1eb5-4dc7-bfb8-f1aa4272cca4",
   "metadata": {},
   "outputs": [],
   "source": [
    "\n",
    "sc.tl.umap(prot, random_state=1)\n",
    "\n",
    "sc.pl.umap(prot, color=\"IgM_TotalSeqC\", ncols=1, vmax=5, size=10)\n",
    "\n",
    "sc.pl.umap(prot, color=\"IgD_TotalSeqC\", ncols=1, vmax=5, size=10)\n",
    "\n",
    "sc.pl.umap(prot, color=\"tissue\", ncols=1, vmax=5, size=10,save ='tissue')\n",
    "color = \"log1p_total_counts\"\n",
    "sc.pl.umap(prot, color=\"log1p_total_counts\", ncols=1, size=10, save = color)\n",
    "sc.tl.leiden(adata, resolution=0.3)\n",
    "sc.pl.umap(prot, color=list(prot.var.index.values) + ['tissue', 'leiden'], ncols=3, vmax = 5, save = 'all')\n",
    "\n",
    "sc.pl.umap(adata, color = 'leiden', save='leiden')\n",
    "sc.pl.umap(adata, color = 'tissue', save='tissue')"
   ]
  },
  {
   "cell_type": "code",
   "execution_count": 7,
   "id": "83051f86-257c-4113-a475-c88df60dc8ed",
   "metadata": {},
   "outputs": [
    {
     "data": {
      "text/plain": [
       "SPL_Overload     61859\n",
       "LN_Overload      44456\n",
       "PBMC_Overload    28107\n",
       "LN               16800\n",
       "BM_Overload      16022\n",
       "SPL              13881\n",
       "BM                7464\n",
       "PBMC               676\n",
       "Name: tissue, dtype: int64"
      ]
     },
     "execution_count": 7,
     "metadata": {},
     "output_type": "execute_result"
    }
   ],
   "source": [
    "sub_adata.obs.tissue.value_counts()"
   ]
  },
  {
   "cell_type": "code",
   "execution_count": 16,
   "id": "6950f818-506d-4895-bd1d-b9d3c8f72917",
   "metadata": {},
   "outputs": [
    {
     "name": "stdout",
     "output_type": "stream",
     "text": [
      "WARNING: Default of the method has been changed to 't-test' from 't-test_overestim_var'\n"
     ]
    }
   ],
   "source": [
    "sc.tl.rank_genes_groups(adata,groupby='leiden', use_raw=False,)"
   ]
  },
  {
   "cell_type": "code",
   "execution_count": 1,
   "id": "37eeabce-12fb-45a2-9489-d3cf6b471280",
   "metadata": {},
   "outputs": [
    {
     "ename": "NameError",
     "evalue": "name 'sc' is not defined",
     "output_type": "error",
     "traceback": [
      "\u001b[0;31m---------------------------------------------------------------------------\u001b[0m",
      "\u001b[0;31mNameError\u001b[0m                                 Traceback (most recent call last)",
      "Input \u001b[0;32mIn [1]\u001b[0m, in \u001b[0;36m<cell line: 1>\u001b[0;34m()\u001b[0m\n\u001b[0;32m----> 1\u001b[0m \u001b[43msc\u001b[49m\u001b[38;5;241m.\u001b[39mpl\u001b[38;5;241m.\u001b[39mrank_genes_groups(adata, save\u001b[38;5;241m=\u001b[39m\u001b[38;5;124m'\u001b[39m\u001b[38;5;124mrank_genes\u001b[39m\u001b[38;5;124m'\u001b[39m)\n",
      "\u001b[0;31mNameError\u001b[0m: name 'sc' is not defined"
     ]
    }
   ],
   "source": [
    "sc.pl.rank_genes_groups(adata, save='rank_genes')"
   ]
  },
  {
   "cell_type": "code",
   "execution_count": null,
   "id": "569b5dd3-8fd4-40dc-a545-cf4ed6160b92",
   "metadata": {},
   "outputs": [],
   "source": []
  }
 ],
 "metadata": {
  "kernelspec": {
   "display_name": "Python 3 (ipykernel)",
   "language": "python",
   "name": "python3"
  },
  "language_info": {
   "codemirror_mode": {
    "name": "ipython",
    "version": 3
   },
   "file_extension": ".py",
   "mimetype": "text/x-python",
   "name": "python",
   "nbconvert_exporter": "python",
   "pygments_lexer": "ipython3",
   "version": "3.9.10"
  }
 },
 "nbformat": 4,
 "nbformat_minor": 5
}
